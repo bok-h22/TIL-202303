{
  "cells": [
    {
      "cell_type": "markdown",
      "metadata": {
        "id": "view-in-github",
        "colab_type": "text"
      },
      "source": [
        "<a href=\"https://colab.research.google.com/github/bok-h22/TIL-202303/blob/master/05_Cache%2C_Persist.ipynb\" target=\"_parent\"><img src=\"https://colab.research.google.com/assets/colab-badge.svg\" alt=\"Open In Colab\"/></a>"
      ]
    },
    {
      "cell_type": "code",
      "execution_count": null,
      "id": "83d34110",
      "metadata": {
        "id": "83d34110",
        "outputId": "8e5d6871-a9e1-4bec-c23c-6ad4f0e0e4d9"
      },
      "outputs": [
        {
          "name": "stderr",
          "output_type": "stream",
          "text": [
            "WARNING: An illegal reflective access operation has occurred\n",
            "WARNING: Illegal reflective access by org.apache.spark.unsafe.Platform (file:/home/ubuntu/spark-3.2.4/jars/spark-unsafe_2.12-3.2.4.jar) to constructor java.nio.DirectByteBuffer(long,int)\n",
            "WARNING: Please consider reporting this to the maintainers of org.apache.spark.unsafe.Platform\n",
            "WARNING: Use --illegal-access=warn to enable warnings of further illegal reflective access operations\n",
            "WARNING: All illegal access operations will be denied in a future release\n",
            "Using Spark's default log4j profile: org/apache/spark/log4j-defaults.properties\n",
            "Setting default log level to \"WARN\".\n",
            "To adjust logging level use sc.setLogLevel(newLevel). For SparkR, use setLogLevel(newLevel).\n",
            "23/06/05 00:23:53 WARN NativeCodeLoader: Unable to load native-hadoop library for your platform... using builtin-java classes where applicable\n"
          ]
        }
      ],
      "source": [
        "from pyspark import SparkConf, SparkContext\n",
        "\n",
        "conf = SparkConf().setMaster(\"local\").setAppName(\"restaurant-review-average\")\n",
        "sc = SparkContext(conf=conf)"
      ]
    },
    {
      "cell_type": "code",
      "execution_count": null,
      "id": "97a96e3a",
      "metadata": {
        "id": "97a96e3a",
        "outputId": "a1372a6f-b154-4892-ae21-ccf76074914d"
      },
      "outputs": [
        {
          "data": {
            "text/plain": [
              "['id,item,cateogry,reviews,',\n",
              " '0,짜장면,중식,125,',\n",
              " '1,짬뽕,중식,235,',\n",
              " '2,김밥,분식,32,',\n",
              " '3,떡볶이,분식,534,',\n",
              " '4,라멘,일식,223,',\n",
              " '5,돈가스,일식,52,',\n",
              " '6,우동,일식,12,',\n",
              " '7,쌀국수,아시안,312,',\n",
              " '8,햄버거,패스트푸드,12,',\n",
              " '9,치킨,패스트푸드,23']"
            ]
          },
          "execution_count": 2,
          "metadata": {},
          "output_type": "execute_result"
        }
      ],
      "source": [
        "filepath = \"/home/ubuntu/working/spark-examples/data/restaurant_reviews.csv\"\n",
        "lines = sc.textFile(f\"file:///{filepath}\")\n",
        "lines.collect()"
      ]
    },
    {
      "cell_type": "code",
      "execution_count": null,
      "id": "f2dbb54b",
      "metadata": {
        "id": "f2dbb54b",
        "outputId": "84d86a3d-3527-40e8-ec91-f952989607df"
      },
      "outputs": [
        {
          "name": "stderr",
          "output_type": "stream",
          "text": [
            "\r",
            "[Stage 1:>                                                          (0 + 1) / 1]\r",
            "\r",
            "                                                                                \r"
          ]
        },
        {
          "data": {
            "text/plain": [
              "['0,짜장면,중식,125,',\n",
              " '1,짬뽕,중식,235,',\n",
              " '2,김밥,분식,32,',\n",
              " '3,떡볶이,분식,534,',\n",
              " '4,라멘,일식,223,',\n",
              " '5,돈가스,일식,52,',\n",
              " '6,우동,일식,12,',\n",
              " '7,쌀국수,아시안,312,',\n",
              " '8,햄버거,패스트푸드,12,',\n",
              " '9,치킨,패스트푸드,23']"
            ]
          },
          "execution_count": 3,
          "metadata": {},
          "output_type": "execute_result"
        }
      ],
      "source": [
        "header = lines.first()\n",
        "filtered_lines = lines.filter(lambda row : row != header)\n",
        "filtered_lines.collect()"
      ]
    },
    {
      "cell_type": "code",
      "execution_count": null,
      "id": "e7ef0ebc",
      "metadata": {
        "id": "e7ef0ebc"
      },
      "outputs": [],
      "source": [
        "def parse(row):\n",
        "    fields = row.split(\",\")\n",
        "    category = fields[2]\n",
        "    reviews  = int(fields[3])\n",
        "    \n",
        "    return category, reviews"
      ]
    },
    {
      "cell_type": "markdown",
      "id": "0cb88009",
      "metadata": {
        "id": "0cb88009"
      },
      "source": [
        "`persist`를 사용하지 않는 경우"
      ]
    },
    {
      "cell_type": "code",
      "execution_count": null,
      "id": "84ff487e",
      "metadata": {
        "id": "84ff487e",
        "outputId": "14a3cdad-8841-4881-8dfb-ddbefd01ea2a"
      },
      "outputs": [
        {
          "data": {
            "text/plain": [
              "[('중식', 125),\n",
              " ('중식', 235),\n",
              " ('분식', 32),\n",
              " ('분식', 534),\n",
              " ('일식', 223),\n",
              " ('일식', 52),\n",
              " ('일식', 12),\n",
              " ('아시안', 312),\n",
              " ('패스트푸드', 12),\n",
              " ('패스트푸드', 23)]"
            ]
          },
          "execution_count": 8,
          "metadata": {},
          "output_type": "execute_result"
        }
      ],
      "source": [
        "categoryReviews = filtered_lines.map(parse)\n",
        "categoryReviews.collect()"
      ]
    },
    {
      "cell_type": "code",
      "execution_count": null,
      "id": "63b90804",
      "metadata": {
        "id": "63b90804"
      },
      "outputs": [],
      "source": [
        "result1 = categoryReviews.take(10)\n",
        "result2 = categoryReviews.mapValues(lambda x : (x, 1)).collect()"
      ]
    },
    {
      "cell_type": "code",
      "execution_count": null,
      "id": "b3990100",
      "metadata": {
        "id": "b3990100",
        "outputId": "b382b29a-fa3b-4b66-df28-1083e0bf9ce0"
      },
      "outputs": [
        {
          "data": {
            "text/plain": [
              "([('중식', 125),\n",
              "  ('중식', 235),\n",
              "  ('분식', 32),\n",
              "  ('분식', 534),\n",
              "  ('일식', 223),\n",
              "  ('일식', 52),\n",
              "  ('일식', 12),\n",
              "  ('아시안', 312),\n",
              "  ('패스트푸드', 12),\n",
              "  ('패스트푸드', 23)],\n",
              " [('중식', (125, 1)),\n",
              "  ('중식', (235, 1)),\n",
              "  ('분식', (32, 1)),\n",
              "  ('분식', (534, 1)),\n",
              "  ('일식', (223, 1)),\n",
              "  ('일식', (52, 1)),\n",
              "  ('일식', (12, 1)),\n",
              "  ('아시안', (312, 1)),\n",
              "  ('패스트푸드', (12, 1)),\n",
              "  ('패스트푸드', (23, 1))])"
            ]
          },
          "execution_count": 10,
          "metadata": {},
          "output_type": "execute_result"
        }
      ],
      "source": [
        "result1, result2"
      ]
    },
    {
      "cell_type": "markdown",
      "id": "436cf3ef",
      "metadata": {
        "id": "436cf3ef"
      },
      "source": [
        "`categoryReivews`는 `result1`, `result2`를 만들면서 2번 만들어 집니다. `categoryReviews`에서 데이터를 꺼내오기만 하면 되지, 변경은 일어나지 않기 때문에 `persist`를 이용해서 `categoryReviews`를 메모리에 넣어 놓는 것이 더 좋아 보입니다."
      ]
    },
    {
      "cell_type": "markdown",
      "id": "a6aaa6b5",
      "metadata": {
        "id": "a6aaa6b5"
      },
      "source": [
        "`persist`를 사용하는 경우"
      ]
    },
    {
      "cell_type": "code",
      "execution_count": null,
      "id": "c4be0749",
      "metadata": {
        "id": "c4be0749",
        "outputId": "b4212196-cea9-4b4b-d1f1-ed82616e84b6"
      },
      "outputs": [
        {
          "data": {
            "text/plain": [
              "[('중식', 125),\n",
              " ('중식', 235),\n",
              " ('분식', 32),\n",
              " ('분식', 534),\n",
              " ('일식', 223),\n",
              " ('일식', 52),\n",
              " ('일식', 12),\n",
              " ('아시안', 312),\n",
              " ('패스트푸드', 12),\n",
              " ('패스트푸드', 23)]"
            ]
          },
          "execution_count": 11,
          "metadata": {},
          "output_type": "execute_result"
        }
      ],
      "source": [
        "categoryReviews = filtered_lines.map(parse).persist() # categoryReviews RDD는 메모리에 상주하는 RDD\n",
        "categoryReviews.collect()"
      ]
    },
    {
      "cell_type": "code",
      "execution_count": null,
      "id": "2f235f06",
      "metadata": {
        "id": "2f235f06"
      },
      "outputs": [],
      "source": [
        "result1 = categoryReviews.take(10)\n",
        "result2 = categoryReviews.mapValues(lambda x : (x, 1)).collect()"
      ]
    },
    {
      "cell_type": "code",
      "execution_count": null,
      "id": "5baca798",
      "metadata": {
        "id": "5baca798"
      },
      "outputs": [],
      "source": [
        "sc.stop()"
      ]
    }
  ],
  "metadata": {
    "kernelspec": {
      "display_name": "Python 3 (ipykernel)",
      "language": "python",
      "name": "python3"
    },
    "language_info": {
      "codemirror_mode": {
        "name": "ipython",
        "version": 3
      },
      "file_extension": ".py",
      "mimetype": "text/x-python",
      "name": "python",
      "nbconvert_exporter": "python",
      "pygments_lexer": "ipython3",
      "version": "3.8.16"
    },
    "colab": {
      "provenance": [],
      "include_colab_link": true
    }
  },
  "nbformat": 4,
  "nbformat_minor": 5
}