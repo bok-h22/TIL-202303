{
  "cells": [
    {
      "cell_type": "markdown",
      "metadata": {
        "id": "view-in-github",
        "colab_type": "text"
      },
      "source": [
        "<a href=\"https://colab.research.google.com/github/bok-h22/TIL-202303/blob/master/OPEN_API_%ED%95%99%EC%8A%B5.ipynb\" target=\"_parent\"><img src=\"https://colab.research.google.com/assets/colab-badge.svg\" alt=\"Open In Colab\"/></a>"
      ]
    },
    {
      "cell_type": "markdown",
      "metadata": {
        "id": "deJ_Vhk4pMJo"
      },
      "source": [
        "#서울시 공공 API"
      ]
    },
    {
      "cell_type": "code",
      "execution_count": null,
      "metadata": {
        "id": "pYOUc2NMpMJq"
      },
      "outputs": [],
      "source": [
        "import json\n",
        "import requests\n",
        "\n",
        "\n",
        "url=\"http://openapi.seoul.go.kr:8088/key/json/tpssSubwayPassenger/1/423/\"\n",
        "response = requests.get(url)\n",
        "data = response.json()\n",
        "data"
      ]
    },
    {
      "cell_type": "code",
      "execution_count": null,
      "metadata": {
        "id": "x4E3jDyppMJr"
      },
      "outputs": [],
      "source": [
        "data = response.json()\n",
        "subway = []\n",
        "\n",
        "for i in data['tpssSubwayPassenger']['row']:\n",
        "    data = {}\n",
        "    data['날짜'] = i['CRTR_DT']\n",
        "    data['행정동 ID'] = i['ADMDONG_ID']\n",
        "    data['지하철 승객 수'] = i['SBWY_PSGR_CNT']\n",
        "\n",
        "    subway.append(data)\n",
        "\n",
        "subway"
      ]
    },
    {
      "cell_type": "code",
      "execution_count": null,
      "metadata": {
        "id": "grAUsowqpMJr"
      },
      "outputs": [],
      "source": [
        "subway_df = pd.DataFrame(subway)\n",
        "subway_df"
      ]
    },
    {
      "cell_type": "code",
      "execution_count": null,
      "metadata": {
        "id": "NrHHE1AppMJr"
      },
      "outputs": [],
      "source": [
        "import json\n",
        "import requests\n",
        "\n",
        "url=\"http://openapi.seoul.go.kr:8088/key/json/tpssEmdBus/1/423/\"\n",
        "response = requests.get(url)\n",
        "response.status_code"
      ]
    },
    {
      "cell_type": "code",
      "execution_count": null,
      "metadata": {
        "id": "K7KvPnydpMJs"
      },
      "outputs": [],
      "source": [
        "data = response.json()\n",
        "bus = []\n",
        "\n",
        "for i in data['tpssEmdBus']['row']:\n",
        "    data = {}\n",
        "    data['행정동 ID'] = i['ADMDONG_ID']\n",
        "    data['버스 승객 수'] = i['BUS_PSGR_CNT']\n",
        "\n",
        "    bus.append(data)\n",
        "\n",
        "bus"
      ]
    },
    {
      "cell_type": "code",
      "execution_count": null,
      "metadata": {
        "id": "0gB5Q70rpMJs"
      },
      "outputs": [],
      "source": [
        "bus_df = pd.DataFrame(bus)\n",
        "bus_df.head()\n",
        "\n",
        "bus_list=list(bus_df['행정동 ID'])\n",
        "type(bus_list)\n",
        "bus_list"
      ]
    },
    {
      "cell_type": "markdown",
      "metadata": {
        "id": "Pkf5elOipMJs"
      },
      "source": [
        "행정동 데이터"
      ]
    },
    {
      "cell_type": "code",
      "execution_count": null,
      "metadata": {
        "id": "mehx80qLpMJs"
      },
      "outputs": [],
      "source": [
        "url='http://openapi.seoul.go.kr:8088/key/json/districtEmd/1/424/'\n",
        "response = requests.get(url)\n",
        "response.status_code\n",
        "\n",
        "#데이터 가져오기\n",
        "data = response.json()\n",
        "dong = []\n",
        "\n",
        "for j in data['districtEmd']['row']:\n",
        "    data = {}\n",
        "    data['행정동 ID'] = j['ADMDONG_ID']\n",
        "    data['시'] = j['SIDO_NM']\n",
        "    data['구'] = j['ATDRC_NM']\n",
        "    data['동'] = j['ADMDONG_NM']\n",
        "    dong.append(data)\n",
        "\n",
        "dong_df = pd.DataFrame(dong)\n",
        "dong_df = dong_df[dong_df['시']=='서울']\n",
        "dong_df"
      ]
    },
    {
      "cell_type": "code",
      "execution_count": null,
      "metadata": {
        "id": "4vJmyoSdpMJs"
      },
      "outputs": [],
      "source": [
        "url='http://openapi.seoul.go.kr:8088/key/json/districtEmd/1/424/'\n",
        "response = requests.get(url)\n",
        "response.status_code\n",
        "\n",
        "#데이터 가져오기\n",
        "data = response.json()\n",
        "data['districtEmd']['row']"
      ]
    },
    {
      "cell_type": "markdown",
      "metadata": {
        "id": "LzeTC3GQpMJt"
      },
      "source": [
        "#카카오 맵 API"
      ]
    },
    {
      "cell_type": "code",
      "execution_count": null,
      "metadata": {
        "id": "473dEq7QpMJt",
        "outputId": "6c9a5693-a240-43de-b43e-4d6e8f5e9e75",
        "colab": {
          "base_uri": "https://localhost:8080/"
        }
      },
      "outputs": [
        {
          "output_type": "execute_result",
          "data": {
            "text/plain": [
              "37.5531476"
            ]
          },
          "metadata": {},
          "execution_count": 5
        }
      ],
      "source": [
        "#담꾹 좌표 불러오기\n",
        "import pandas as pd\n",
        "x_y = pd.read_excel('/content/밀키트 위도,경도.xlsx').values.tolist()\n",
        "x_y[1][3]"
      ]
    },
    {
      "cell_type": "markdown",
      "metadata": {
        "id": "MseoKaIzpMJu"
      },
      "source": [
        "#인근 밀키트 매장 갯수 구하기"
      ]
    },
    {
      "cell_type": "code",
      "execution_count": null,
      "metadata": {
        "id": "PtsWH1AxpMJu"
      },
      "outputs": [],
      "source": [
        "import requests\n",
        "import json\n",
        "import pandas as pd\n",
        "\n",
        "url = 'https://dapi.kakao.com/v2/local/search/keyword.json'\n",
        "kakao_key = 'key'\n",
        "\n",
        "인근_밀키트_매장_수= []\n",
        "\n",
        "\n",
        "for i in range(len(x_y)):\n",
        "\n",
        "    stop = True\n",
        "\n",
        "    mil_cnt = 0\n",
        "    page = 1\n",
        "    page_size = 45\n",
        "\n",
        "    data = {}\n",
        "\n",
        "    mil_name = x_y[i][1]\n",
        "    mil_x = x_y[i][3]\n",
        "    mil_y = x_y[i][2]\n",
        "\n",
        "    while stop:\n",
        "        params = {'query' : '밀키트',\n",
        "            'x' : mil_x,\n",
        "            'y' : mil_y,\n",
        "            'page' : page,\n",
        "            'page_size': page_size,\n",
        "            'radius' : 500}\n",
        "        header = {\"Authorization\":f\"KakaoAK {kakao_key}\"}\n",
        "\n",
        "        milkit = requests.get(url = url,\n",
        "                                params = params,\n",
        "                                headers = header).json()\n",
        "\n",
        "        mil_cnt += len(milkit['documents'])\n",
        "\n",
        "        if milkit['meta']['is_end'] == False:\n",
        "            stop = True\n",
        "            page += 1\n",
        "        else:\n",
        "            stop = False\n",
        "\n",
        "    #데이터 넣기\n",
        "    data['매장명'] = mil_name\n",
        "    data['인근 밀키트 매장 수'] = mil_cnt\n",
        "\n",
        "    인근_밀키트_매장_수.append(data)\n",
        "\n",
        "인근_밀키트_매장_수 = pd.DataFrame(인근_밀키트_매장_수)\n",
        "인근_밀키트_매장_수\n",
        "\n"
      ]
    },
    {
      "cell_type": "code",
      "source": [
        "인근_밀키트_매장_수"
      ],
      "metadata": {
        "id": "97TMCPW68kQo",
        "outputId": "7cea9732-1592-4cbe-ff21-ddbabe1aa261",
        "colab": {
          "base_uri": "https://localhost:8080/",
          "height": 423
        }
      },
      "execution_count": null,
      "outputs": [
        {
          "output_type": "execute_result",
          "data": {
            "text/plain": [
              "                매장명  인근 밀키트 매장 수\n",
              "0         집밥뚝딱 먹골역점           45\n",
              "1          집밥뚝딱 약수점           45\n",
              "2       집밥뚝딱 신길뉴타운점           45\n",
              "3    집밥뚝딱 롯데캐슬 파크엘점           45\n",
              "4       집밥뚝딱 헬리오시티점           45\n",
              "..              ...          ...\n",
              "180       담꾹 헬리오시티점           45\n",
              "181          담꾹 홍은점           45\n",
              "182         담꾹 홍제역점           45\n",
              "183        담꾹 화곡본동점           45\n",
              "184          담꾹연신내점           45\n",
              "\n",
              "[185 rows x 2 columns]"
            ],
            "text/html": [
              "\n",
              "  <div id=\"df-1b42a74e-d30a-4b31-a8c9-3aee7b0c244e\">\n",
              "    <div class=\"colab-df-container\">\n",
              "      <div>\n",
              "<style scoped>\n",
              "    .dataframe tbody tr th:only-of-type {\n",
              "        vertical-align: middle;\n",
              "    }\n",
              "\n",
              "    .dataframe tbody tr th {\n",
              "        vertical-align: top;\n",
              "    }\n",
              "\n",
              "    .dataframe thead th {\n",
              "        text-align: right;\n",
              "    }\n",
              "</style>\n",
              "<table border=\"1\" class=\"dataframe\">\n",
              "  <thead>\n",
              "    <tr style=\"text-align: right;\">\n",
              "      <th></th>\n",
              "      <th>매장명</th>\n",
              "      <th>인근 밀키트 매장 수</th>\n",
              "    </tr>\n",
              "  </thead>\n",
              "  <tbody>\n",
              "    <tr>\n",
              "      <th>0</th>\n",
              "      <td>집밥뚝딱 먹골역점</td>\n",
              "      <td>45</td>\n",
              "    </tr>\n",
              "    <tr>\n",
              "      <th>1</th>\n",
              "      <td>집밥뚝딱 약수점</td>\n",
              "      <td>45</td>\n",
              "    </tr>\n",
              "    <tr>\n",
              "      <th>2</th>\n",
              "      <td>집밥뚝딱 신길뉴타운점</td>\n",
              "      <td>45</td>\n",
              "    </tr>\n",
              "    <tr>\n",
              "      <th>3</th>\n",
              "      <td>집밥뚝딱 롯데캐슬 파크엘점</td>\n",
              "      <td>45</td>\n",
              "    </tr>\n",
              "    <tr>\n",
              "      <th>4</th>\n",
              "      <td>집밥뚝딱 헬리오시티점</td>\n",
              "      <td>45</td>\n",
              "    </tr>\n",
              "    <tr>\n",
              "      <th>...</th>\n",
              "      <td>...</td>\n",
              "      <td>...</td>\n",
              "    </tr>\n",
              "    <tr>\n",
              "      <th>180</th>\n",
              "      <td>담꾹 헬리오시티점</td>\n",
              "      <td>45</td>\n",
              "    </tr>\n",
              "    <tr>\n",
              "      <th>181</th>\n",
              "      <td>담꾹 홍은점</td>\n",
              "      <td>45</td>\n",
              "    </tr>\n",
              "    <tr>\n",
              "      <th>182</th>\n",
              "      <td>담꾹 홍제역점</td>\n",
              "      <td>45</td>\n",
              "    </tr>\n",
              "    <tr>\n",
              "      <th>183</th>\n",
              "      <td>담꾹 화곡본동점</td>\n",
              "      <td>45</td>\n",
              "    </tr>\n",
              "    <tr>\n",
              "      <th>184</th>\n",
              "      <td>담꾹연신내점</td>\n",
              "      <td>45</td>\n",
              "    </tr>\n",
              "  </tbody>\n",
              "</table>\n",
              "<p>185 rows × 2 columns</p>\n",
              "</div>\n",
              "      <button class=\"colab-df-convert\" onclick=\"convertToInteractive('df-1b42a74e-d30a-4b31-a8c9-3aee7b0c244e')\"\n",
              "              title=\"Convert this dataframe to an interactive table.\"\n",
              "              style=\"display:none;\">\n",
              "        \n",
              "  <svg xmlns=\"http://www.w3.org/2000/svg\" height=\"24px\"viewBox=\"0 0 24 24\"\n",
              "       width=\"24px\">\n",
              "    <path d=\"M0 0h24v24H0V0z\" fill=\"none\"/>\n",
              "    <path d=\"M18.56 5.44l.94 2.06.94-2.06 2.06-.94-2.06-.94-.94-2.06-.94 2.06-2.06.94zm-11 1L8.5 8.5l.94-2.06 2.06-.94-2.06-.94L8.5 2.5l-.94 2.06-2.06.94zm10 10l.94 2.06.94-2.06 2.06-.94-2.06-.94-.94-2.06-.94 2.06-2.06.94z\"/><path d=\"M17.41 7.96l-1.37-1.37c-.4-.4-.92-.59-1.43-.59-.52 0-1.04.2-1.43.59L10.3 9.45l-7.72 7.72c-.78.78-.78 2.05 0 2.83L4 21.41c.39.39.9.59 1.41.59.51 0 1.02-.2 1.41-.59l7.78-7.78 2.81-2.81c.8-.78.8-2.07 0-2.86zM5.41 20L4 18.59l7.72-7.72 1.47 1.35L5.41 20z\"/>\n",
              "  </svg>\n",
              "      </button>\n",
              "      \n",
              "  <style>\n",
              "    .colab-df-container {\n",
              "      display:flex;\n",
              "      flex-wrap:wrap;\n",
              "      gap: 12px;\n",
              "    }\n",
              "\n",
              "    .colab-df-convert {\n",
              "      background-color: #E8F0FE;\n",
              "      border: none;\n",
              "      border-radius: 50%;\n",
              "      cursor: pointer;\n",
              "      display: none;\n",
              "      fill: #1967D2;\n",
              "      height: 32px;\n",
              "      padding: 0 0 0 0;\n",
              "      width: 32px;\n",
              "    }\n",
              "\n",
              "    .colab-df-convert:hover {\n",
              "      background-color: #E2EBFA;\n",
              "      box-shadow: 0px 1px 2px rgba(60, 64, 67, 0.3), 0px 1px 3px 1px rgba(60, 64, 67, 0.15);\n",
              "      fill: #174EA6;\n",
              "    }\n",
              "\n",
              "    [theme=dark] .colab-df-convert {\n",
              "      background-color: #3B4455;\n",
              "      fill: #D2E3FC;\n",
              "    }\n",
              "\n",
              "    [theme=dark] .colab-df-convert:hover {\n",
              "      background-color: #434B5C;\n",
              "      box-shadow: 0px 1px 3px 1px rgba(0, 0, 0, 0.15);\n",
              "      filter: drop-shadow(0px 1px 2px rgba(0, 0, 0, 0.3));\n",
              "      fill: #FFFFFF;\n",
              "    }\n",
              "  </style>\n",
              "\n",
              "      <script>\n",
              "        const buttonEl =\n",
              "          document.querySelector('#df-1b42a74e-d30a-4b31-a8c9-3aee7b0c244e button.colab-df-convert');\n",
              "        buttonEl.style.display =\n",
              "          google.colab.kernel.accessAllowed ? 'block' : 'none';\n",
              "\n",
              "        async function convertToInteractive(key) {\n",
              "          const element = document.querySelector('#df-1b42a74e-d30a-4b31-a8c9-3aee7b0c244e');\n",
              "          const dataTable =\n",
              "            await google.colab.kernel.invokeFunction('convertToInteractive',\n",
              "                                                     [key], {});\n",
              "          if (!dataTable) return;\n",
              "\n",
              "          const docLinkHtml = 'Like what you see? Visit the ' +\n",
              "            '<a target=\"_blank\" href=https://colab.research.google.com/notebooks/data_table.ipynb>data table notebook</a>'\n",
              "            + ' to learn more about interactive tables.';\n",
              "          element.innerHTML = '';\n",
              "          dataTable['output_type'] = 'display_data';\n",
              "          await google.colab.output.renderOutput(dataTable, element);\n",
              "          const docLink = document.createElement('div');\n",
              "          docLink.innerHTML = docLinkHtml;\n",
              "          element.appendChild(docLink);\n",
              "        }\n",
              "      </script>\n",
              "    </div>\n",
              "  </div>\n",
              "  "
            ]
          },
          "metadata": {},
          "execution_count": 14
        }
      ]
    },
    {
      "cell_type": "code",
      "execution_count": null,
      "metadata": {
        "id": "_vViriwqpMJu"
      },
      "outputs": [],
      "source": [
        "#output\n",
        "인근_밀키트_매장_수\n",
        "인근_밀키트_매장_수.to_csv(\"./인근 밀키트 매장 수 (1km).csv\", encoding=\"utf-8-sig\")"
      ]
    },
    {
      "cell_type": "markdown",
      "metadata": {
        "id": "sBddUU2DpMJu"
      },
      "source": [
        "#인근 대형마트 매장 갯수 구하기"
      ]
    },
    {
      "cell_type": "code",
      "execution_count": null,
      "metadata": {
        "id": "m2yjo8zHpMJv",
        "outputId": "31918024-b13c-46ae-b18e-be4d3169d06b",
        "colab": {
          "base_uri": "https://localhost:8080/",
          "height": 423
        }
      },
      "outputs": [
        {
          "output_type": "execute_result",
          "data": {
            "text/plain": [
              "                매장명  인근 대형마트 매장 수\n",
              "0         집밥뚝딱 먹골역점            15\n",
              "1          집밥뚝딱 약수점            15\n",
              "2       집밥뚝딱 신길뉴타운점            15\n",
              "3    집밥뚝딱 롯데캐슬 파크엘점            15\n",
              "4       집밥뚝딱 헬리오시티점            15\n",
              "..              ...           ...\n",
              "180       담꾹 헬리오시티점            15\n",
              "181          담꾹 홍은점            15\n",
              "182         담꾹 홍제역점            15\n",
              "183        담꾹 화곡본동점            15\n",
              "184          담꾹연신내점            15\n",
              "\n",
              "[185 rows x 2 columns]"
            ],
            "text/html": [
              "\n",
              "  <div id=\"df-8ff2e086-2329-48ed-9d79-fe4507bb17fe\">\n",
              "    <div class=\"colab-df-container\">\n",
              "      <div>\n",
              "<style scoped>\n",
              "    .dataframe tbody tr th:only-of-type {\n",
              "        vertical-align: middle;\n",
              "    }\n",
              "\n",
              "    .dataframe tbody tr th {\n",
              "        vertical-align: top;\n",
              "    }\n",
              "\n",
              "    .dataframe thead th {\n",
              "        text-align: right;\n",
              "    }\n",
              "</style>\n",
              "<table border=\"1\" class=\"dataframe\">\n",
              "  <thead>\n",
              "    <tr style=\"text-align: right;\">\n",
              "      <th></th>\n",
              "      <th>매장명</th>\n",
              "      <th>인근 대형마트 매장 수</th>\n",
              "    </tr>\n",
              "  </thead>\n",
              "  <tbody>\n",
              "    <tr>\n",
              "      <th>0</th>\n",
              "      <td>집밥뚝딱 먹골역점</td>\n",
              "      <td>15</td>\n",
              "    </tr>\n",
              "    <tr>\n",
              "      <th>1</th>\n",
              "      <td>집밥뚝딱 약수점</td>\n",
              "      <td>15</td>\n",
              "    </tr>\n",
              "    <tr>\n",
              "      <th>2</th>\n",
              "      <td>집밥뚝딱 신길뉴타운점</td>\n",
              "      <td>15</td>\n",
              "    </tr>\n",
              "    <tr>\n",
              "      <th>3</th>\n",
              "      <td>집밥뚝딱 롯데캐슬 파크엘점</td>\n",
              "      <td>15</td>\n",
              "    </tr>\n",
              "    <tr>\n",
              "      <th>4</th>\n",
              "      <td>집밥뚝딱 헬리오시티점</td>\n",
              "      <td>15</td>\n",
              "    </tr>\n",
              "    <tr>\n",
              "      <th>...</th>\n",
              "      <td>...</td>\n",
              "      <td>...</td>\n",
              "    </tr>\n",
              "    <tr>\n",
              "      <th>180</th>\n",
              "      <td>담꾹 헬리오시티점</td>\n",
              "      <td>15</td>\n",
              "    </tr>\n",
              "    <tr>\n",
              "      <th>181</th>\n",
              "      <td>담꾹 홍은점</td>\n",
              "      <td>15</td>\n",
              "    </tr>\n",
              "    <tr>\n",
              "      <th>182</th>\n",
              "      <td>담꾹 홍제역점</td>\n",
              "      <td>15</td>\n",
              "    </tr>\n",
              "    <tr>\n",
              "      <th>183</th>\n",
              "      <td>담꾹 화곡본동점</td>\n",
              "      <td>15</td>\n",
              "    </tr>\n",
              "    <tr>\n",
              "      <th>184</th>\n",
              "      <td>담꾹연신내점</td>\n",
              "      <td>15</td>\n",
              "    </tr>\n",
              "  </tbody>\n",
              "</table>\n",
              "<p>185 rows × 2 columns</p>\n",
              "</div>\n",
              "      <button class=\"colab-df-convert\" onclick=\"convertToInteractive('df-8ff2e086-2329-48ed-9d79-fe4507bb17fe')\"\n",
              "              title=\"Convert this dataframe to an interactive table.\"\n",
              "              style=\"display:none;\">\n",
              "        \n",
              "  <svg xmlns=\"http://www.w3.org/2000/svg\" height=\"24px\"viewBox=\"0 0 24 24\"\n",
              "       width=\"24px\">\n",
              "    <path d=\"M0 0h24v24H0V0z\" fill=\"none\"/>\n",
              "    <path d=\"M18.56 5.44l.94 2.06.94-2.06 2.06-.94-2.06-.94-.94-2.06-.94 2.06-2.06.94zm-11 1L8.5 8.5l.94-2.06 2.06-.94-2.06-.94L8.5 2.5l-.94 2.06-2.06.94zm10 10l.94 2.06.94-2.06 2.06-.94-2.06-.94-.94-2.06-.94 2.06-2.06.94z\"/><path d=\"M17.41 7.96l-1.37-1.37c-.4-.4-.92-.59-1.43-.59-.52 0-1.04.2-1.43.59L10.3 9.45l-7.72 7.72c-.78.78-.78 2.05 0 2.83L4 21.41c.39.39.9.59 1.41.59.51 0 1.02-.2 1.41-.59l7.78-7.78 2.81-2.81c.8-.78.8-2.07 0-2.86zM5.41 20L4 18.59l7.72-7.72 1.47 1.35L5.41 20z\"/>\n",
              "  </svg>\n",
              "      </button>\n",
              "      \n",
              "  <style>\n",
              "    .colab-df-container {\n",
              "      display:flex;\n",
              "      flex-wrap:wrap;\n",
              "      gap: 12px;\n",
              "    }\n",
              "\n",
              "    .colab-df-convert {\n",
              "      background-color: #E8F0FE;\n",
              "      border: none;\n",
              "      border-radius: 50%;\n",
              "      cursor: pointer;\n",
              "      display: none;\n",
              "      fill: #1967D2;\n",
              "      height: 32px;\n",
              "      padding: 0 0 0 0;\n",
              "      width: 32px;\n",
              "    }\n",
              "\n",
              "    .colab-df-convert:hover {\n",
              "      background-color: #E2EBFA;\n",
              "      box-shadow: 0px 1px 2px rgba(60, 64, 67, 0.3), 0px 1px 3px 1px rgba(60, 64, 67, 0.15);\n",
              "      fill: #174EA6;\n",
              "    }\n",
              "\n",
              "    [theme=dark] .colab-df-convert {\n",
              "      background-color: #3B4455;\n",
              "      fill: #D2E3FC;\n",
              "    }\n",
              "\n",
              "    [theme=dark] .colab-df-convert:hover {\n",
              "      background-color: #434B5C;\n",
              "      box-shadow: 0px 1px 3px 1px rgba(0, 0, 0, 0.15);\n",
              "      filter: drop-shadow(0px 1px 2px rgba(0, 0, 0, 0.3));\n",
              "      fill: #FFFFFF;\n",
              "    }\n",
              "  </style>\n",
              "\n",
              "      <script>\n",
              "        const buttonEl =\n",
              "          document.querySelector('#df-8ff2e086-2329-48ed-9d79-fe4507bb17fe button.colab-df-convert');\n",
              "        buttonEl.style.display =\n",
              "          google.colab.kernel.accessAllowed ? 'block' : 'none';\n",
              "\n",
              "        async function convertToInteractive(key) {\n",
              "          const element = document.querySelector('#df-8ff2e086-2329-48ed-9d79-fe4507bb17fe');\n",
              "          const dataTable =\n",
              "            await google.colab.kernel.invokeFunction('convertToInteractive',\n",
              "                                                     [key], {});\n",
              "          if (!dataTable) return;\n",
              "\n",
              "          const docLinkHtml = 'Like what you see? Visit the ' +\n",
              "            '<a target=\"_blank\" href=https://colab.research.google.com/notebooks/data_table.ipynb>data table notebook</a>'\n",
              "            + ' to learn more about interactive tables.';\n",
              "          element.innerHTML = '';\n",
              "          dataTable['output_type'] = 'display_data';\n",
              "          await google.colab.output.renderOutput(dataTable, element);\n",
              "          const docLink = document.createElement('div');\n",
              "          docLink.innerHTML = docLinkHtml;\n",
              "          element.appendChild(docLink);\n",
              "        }\n",
              "      </script>\n",
              "    </div>\n",
              "  </div>\n",
              "  "
            ]
          },
          "metadata": {},
          "execution_count": 10
        }
      ],
      "source": [
        "import requests\n",
        "import json\n",
        "import pandas as pd\n",
        "\n",
        "url = 'https://dapi.kakao.com/v2/local/search/keyword.json'\n",
        "\n",
        "인근_대형마트_매장_수= []\n",
        "\n",
        "for i in range(len(x_y)):\n",
        "\n",
        "    data = {}\n",
        "\n",
        "    mil_name = x_y[i][1]\n",
        "    mil_x = x_y[i][3]\n",
        "    mil_y = x_y[i][2]\n",
        "\n",
        "    params = {'query' : '대형마트',\n",
        "                'x' : mil_x,\n",
        "                'y' : mil_y,\n",
        "                'radius' : 1000}\n",
        "\n",
        "    kakao_key = '2dc142a121aa04c7f2cf477c8daa9074'\n",
        "\n",
        "    milkit = requests.get(url = url,\n",
        "                            params = params,\n",
        "                            headers = {\"Authorization\":f\"KakaoAK {kakao_key}\"}).json()[\"documents\"]\n",
        "    mart_cnt = len(milkit)\n",
        "\n",
        "    #데이터 넣기\n",
        "    data['매장명'] = mil_name\n",
        "    data['인근 대형마트 매장 수'] = mart_cnt\n",
        "\n",
        "    인근_대형마트_매장_수.append(data)\n",
        "\n",
        "인근_대형마트_매장_수 = pd.DataFrame(인근_대형마트_매장_수)\n",
        "인근_대형마트_매장_수"
      ]
    },
    {
      "cell_type": "code",
      "execution_count": null,
      "metadata": {
        "id": "Ks5uj0IxpMJw"
      },
      "outputs": [],
      "source": [
        "#output\n",
        "인근_대형마트_매장_수.to_csv(\"./인근 대형마트 매장 수 (1km).csv\", encoding=\"utf-8-sig\")"
      ]
    },
    {
      "cell_type": "markdown",
      "source": [
        "#인근 편의점 갯수"
      ],
      "metadata": {
        "id": "-8rz5Y_DswFM"
      }
    },
    {
      "cell_type": "markdown",
      "metadata": {
        "id": "cstCBen3pMJx"
      },
      "source": [
        "인근 편의점 개수"
      ]
    },
    {
      "cell_type": "code",
      "execution_count": null,
      "metadata": {
        "id": "xaVrJFdKpMJy"
      },
      "outputs": [],
      "source": [
        "import requests\n",
        "import json\n",
        "import pandas as pd\n",
        "\n",
        "url = 'https://dapi.kakao.com/v2/local/search/keyword.json'\n",
        "kakao_key = 'key'\n",
        "\n",
        "인근_편의점_매장_수= []\n",
        "\n",
        "\n",
        "for i in range(len(x_y)):\n",
        "\n",
        "    stop = True\n",
        "\n",
        "    conv_cnt = 0\n",
        "    page = 1\n",
        "    page_size = 45\n",
        "\n",
        "    data = {}\n",
        "\n",
        "    mil_name = x_y[i][1]\n",
        "    mil_x = x_y[i][3]\n",
        "    mil_y = x_y[i][2]\n",
        "\n",
        "    while stop:\n",
        "        params = {'query' : '편의점',\n",
        "            'x' : mil_x,\n",
        "            'y' : mil_y,\n",
        "            'page' : page,\n",
        "            'page_size': page_size,\n",
        "            'radius' : 500}\n",
        "        header = {\"Authorization\":f\"KakaoAK {kakao_key}\"}\n",
        "\n",
        "        milkit = requests.get(url = url,\n",
        "                                params = params,\n",
        "                                headers = header).json()\n",
        "\n",
        "        conv_cnt += len(milkit['documents'])\n",
        "\n",
        "        if milkit['meta']['is_end'] == False:\n",
        "            stop = True\n",
        "            page += 1\n",
        "        else:\n",
        "            stop = False\n",
        "\n",
        "    #데이터 넣기\n",
        "    data['매장명'] = mil_name\n",
        "    data['인근 편의점 매장 수'] = conv_cnt\n",
        "\n",
        "    인근_편의점_매장_수.append(data)\n",
        "\n",
        "인근_편의점_매장_수 = pd.DataFrame(인근_편의점_매장_수)\n",
        "\n",
        "\n"
      ]
    },
    {
      "cell_type": "code",
      "execution_count": null,
      "metadata": {
        "id": "AKD--eDlpMJy"
      },
      "outputs": [],
      "source": [
        "#output\n",
        "인근_편의점_매장_수.to_csv(\"./인근 편의점 매장 수 (500m).csv\", encoding=\"utf-8-sig\")"
      ]
    },
    {
      "cell_type": "markdown",
      "metadata": {
        "id": "VsXJMWmGpMJz"
      },
      "source": [
        "인근 아파트 세대수"
      ]
    },
    {
      "cell_type": "code",
      "execution_count": null,
      "metadata": {
        "id": "cW2ydO1XpMJz"
      },
      "outputs": [],
      "source": []
    },
    {
      "cell_type": "markdown",
      "metadata": {
        "id": "hfnUAG5NpMJz"
      },
      "source": [
        "#좌표로 행정동 추출"
      ]
    },
    {
      "cell_type": "code",
      "execution_count": null,
      "metadata": {
        "id": "hlbdZYeFpMJz",
        "colab": {
          "base_uri": "https://localhost:8080/",
          "height": 245
        },
        "outputId": "920b3e92-f960-44b5-873c-49d0aed5375c"
      },
      "outputs": [
        {
          "output_type": "error",
          "ename": "KeyError",
          "evalue": "ignored",
          "traceback": [
            "\u001b[0;31m---------------------------------------------------------------------------\u001b[0m",
            "\u001b[0;31mKeyError\u001b[0m                                  Traceback (most recent call last)",
            "\u001b[0;32m<ipython-input-12-bb6562629327>\u001b[0m in \u001b[0;36m<cell line: 7>\u001b[0;34m()\u001b[0m\n\u001b[1;32m     14\u001b[0m               'y' : mil_y}\n\u001b[1;32m     15\u001b[0m \u001b[0;34m\u001b[0m\u001b[0m\n\u001b[0;32m---> 16\u001b[0;31m     hjd = requests.get(url = url, \n\u001b[0m\u001b[1;32m     17\u001b[0m                         \u001b[0mparams\u001b[0m \u001b[0;34m=\u001b[0m \u001b[0mparams\u001b[0m\u001b[0;34m,\u001b[0m\u001b[0;34m\u001b[0m\u001b[0;34m\u001b[0m\u001b[0m\n\u001b[1;32m     18\u001b[0m                         headers = {\"Authorization\":f\"KakaoAK {kakao_key}\"}).json()['documents'][1]\n",
            "\u001b[0;31mKeyError\u001b[0m: 'documents'"
          ]
        }
      ],
      "source": [
        "url = 'https://dapi.kakao.com/v2/local/geo/coord2regioncode.json'\n",
        "kakao_key = 'key'\n",
        "\n",
        "\n",
        "담꾹_행정동 = []\n",
        "\n",
        "for i in range(len(x_y)):\n",
        "\n",
        "    mil_name = x_y[i][1]\n",
        "    mil_x = x_y[i][3]\n",
        "    mil_y = x_y[i][2]\n",
        "\n",
        "    params = {'x' : mil_x,\n",
        "              'y' : mil_y}\n",
        "\n",
        "    hjd = requests.get(url = url,\n",
        "                        params = params,\n",
        "                        headers = {\"Authorization\":f\"KakaoAK {kakao_key}\"}).json()['documents'][1]\n",
        "\n",
        "    data = {}\n",
        "\n",
        "    #데이터 입력\n",
        "    data['매장명'] = mil_name\n",
        "    data['행정동 code'] = hjd[\"code\"]\n",
        "    data['행정동 주소'] = hjd[\"address_name\"]\n",
        "    data['시'] = hjd[\"region_1depth_name\"]\n",
        "    data['구'] = hjd[\"region_2depth_name\"]\n",
        "    data['동'] = hjd[\"region_3depth_name\"]\n",
        "    data['etc'] = hjd[\"region_4depth_name\"]\n",
        "    data['경도'] = mil_y\n",
        "    data['위도'] = mil_x\n",
        "\n",
        "    담꾹_행정동.append(data)\n",
        "\n",
        "담꾹_행정동 = pd.DataFrame(담꾹_행정동)"
      ]
    },
    {
      "cell_type": "markdown",
      "metadata": {
        "id": "BwndujhypMJz"
      },
      "source": [
        "#최종 데이터 병합"
      ]
    },
    {
      "cell_type": "code",
      "execution_count": null,
      "metadata": {
        "id": "YN1y4H12pMJ0"
      },
      "outputs": [],
      "source": [
        "담꾹_지도API_최종 = pd.merge(담꾹_행정동, 인근_밀키트_매장_수, on = \"매장명\", how = \"inner\")\n",
        "담꾹_지도API_최종 = pd.merge(담꾹_지도API_최종, 인근_편의점_매장_수, on = \"매장명\", how = \"inner\")\n",
        "담꾹_지도API_최종 = pd.merge(담꾹_지도API_최종, 인근_대형마트_매장_수, on = \"매장명\", how = \"inner\")\n",
        "담꾹_지도API_최종"
      ]
    },
    {
      "cell_type": "code",
      "execution_count": null,
      "metadata": {
        "id": "P4WkeCAIpMJ0"
      },
      "outputs": [],
      "source": [
        "#output\n",
        "담꾹_지도API_최종.to_csv(\"/Users/asd/Desktop/담꾹 지도API 최종.csv\", encoding=\"utf-8-sig\")"
      ]
    },
    {
      "cell_type": "code",
      "execution_count": null,
      "metadata": {
        "id": "Qrn9ucXspMJ0"
      },
      "outputs": [],
      "source": [
        "import pandas as pd\n",
        "import requests\n",
        "아파트코드_최종 = pd.read_csv('/Users/asd/Desktop/아파트코드_최종_없음삭제.csv').values.tolist()\n",
        "아파트세대수 = []\n",
        "for bjd_code in range(30):\n",
        "    아파트코드 = 아파트코드_최종[bjd_code][2]\n",
        "    url = f'https://apis.data.go.kr/1613000/AptBasisInfoService1/getAphusBassInfo?serviceKey=key%2B6k2O1ojfc%2FxvyMMw%3D%3D&_type=json&kaptCode={아파트코드}'\n",
        "    response = requests.get(url)\n",
        "    data = {}\n",
        "    if 아파트코드 == '없음':\n",
        "        print('아파트 없음')\n",
        "        pass\n",
        "    else:\n",
        "        ex1 = response.json()['response']['body']['item']\n",
        "        data['아파트명'] = ex1['kaptName']\n",
        "        data['아파트 code'] = ex1['kaptCode']\n",
        "        data['법정동코드'] = ex1['bjdCode']\n",
        "        data['아파트 세대수'] = ex1['kaptdaCnt']\n",
        "        print(data)\n",
        "        아파트세대수.append(data)"
      ]
    }
  ],
  "metadata": {
    "kernelspec": {
      "display_name": "base",
      "language": "python",
      "name": "python3"
    },
    "language_info": {
      "codemirror_mode": {
        "name": "ipython",
        "version": 3
      },
      "file_extension": ".py",
      "mimetype": "text/x-python",
      "name": "python",
      "nbconvert_exporter": "python",
      "pygments_lexer": "ipython3",
      "version": "3.9.13"
    },
    "orig_nbformat": 4,
    "colab": {
      "provenance": [],
      "collapsed_sections": [
        "sBddUU2DpMJu"
      ],
      "include_colab_link": true
    }
  },
  "nbformat": 4,
  "nbformat_minor": 0
}