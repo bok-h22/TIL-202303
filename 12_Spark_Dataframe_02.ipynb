{
  "cells": [
    {
      "cell_type": "markdown",
      "metadata": {
        "id": "view-in-github",
        "colab_type": "text"
      },
      "source": [
        "<a href=\"https://colab.research.google.com/github/bok-h22/TIL-202303/blob/master/12_Spark_Dataframe_02.ipynb\" target=\"_parent\"><img src=\"https://colab.research.google.com/assets/colab-badge.svg\" alt=\"Open In Colab\"/></a>"
      ]
    },
    {
      "cell_type": "code",
      "execution_count": null,
      "id": "2bcca1b1",
      "metadata": {
        "id": "2bcca1b1",
        "outputId": "6e59c16b-62f4-44c1-9e8a-3563be1b2d42"
      },
      "outputs": [
        {
          "name": "stderr",
          "output_type": "stream",
          "text": [
            "WARNING: An illegal reflective access operation has occurred\n",
            "WARNING: Illegal reflective access by org.apache.spark.unsafe.Platform (file:/home/ubuntu/spark-3.2.4/jars/spark-unsafe_2.12-3.2.4.jar) to constructor java.nio.DirectByteBuffer(long,int)\n",
            "WARNING: Please consider reporting this to the maintainers of org.apache.spark.unsafe.Platform\n",
            "WARNING: Use --illegal-access=warn to enable warnings of further illegal reflective access operations\n",
            "WARNING: All illegal access operations will be denied in a future release\n",
            "Using Spark's default log4j profile: org/apache/spark/log4j-defaults.properties\n",
            "Setting default log level to \"WARN\".\n",
            "To adjust logging level use sc.setLogLevel(newLevel). For SparkR, use setLogLevel(newLevel).\n",
            "23/06/12 00:04:53 WARN NativeCodeLoader: Unable to load native-hadoop library for your platform... using builtin-java classes where applicable\n"
          ]
        }
      ],
      "source": [
        "from pyspark.sql import SparkSession\n",
        "\n",
        "spark = SparkSession.builder.appName(\"titanic_train\").getOrCreate()"
      ]
    },
    {
      "cell_type": "code",
      "execution_count": null,
      "id": "6bc83e61",
      "metadata": {
        "id": "6bc83e61",
        "outputId": "301abf9f-7e4d-488e-a185-cfbb362c3469"
      },
      "outputs": [
        {
          "name": "stderr",
          "output_type": "stream",
          "text": [
            "\r",
            "[Stage 0:>                                                          (0 + 1) / 1]\r",
            "\r",
            "                                                                                \r"
          ]
        },
        {
          "name": "stdout",
          "output_type": "stream",
          "text": [
            "+-----------+--------+------+--------------------+------+----+-----+-----+----------------+-------+-----+--------+\n",
            "|PassengerId|Survived|Pclass|                Name|   Sex| Age|SibSp|Parch|          Ticket|   Fare|Cabin|Embarked|\n",
            "+-----------+--------+------+--------------------+------+----+-----+-----+----------------+-------+-----+--------+\n",
            "|          1|       0|     3|Braund, Mr. Owen ...|  male|22.0|    1|    0|       A/5 21171|   7.25| null|       S|\n",
            "|          2|       1|     1|Cumings, Mrs. Joh...|female|38.0|    1|    0|        PC 17599|71.2833|  C85|       C|\n",
            "|          3|       1|     3|Heikkinen, Miss. ...|female|26.0|    0|    0|STON/O2. 3101282|  7.925| null|       S|\n",
            "|          4|       1|     1|Futrelle, Mrs. Ja...|female|35.0|    1|    0|          113803|   53.1| C123|       S|\n",
            "|          5|       0|     3|Allen, Mr. Willia...|  male|35.0|    0|    0|          373450|   8.05| null|       S|\n",
            "+-----------+--------+------+--------------------+------+----+-----+-----+----------------+-------+-----+--------+\n",
            "only showing top 5 rows\n",
            "\n"
          ]
        }
      ],
      "source": [
        "filepath = \"/home/ubuntu/working/spark-examples/data/titanic_train.csv\"\n",
        "titanic_sdf = spark.read.csv(filepath, inferSchema=True, header=True)\n",
        "\n",
        "titanic_sdf.show(5)"
      ]
    },
    {
      "cell_type": "code",
      "execution_count": null,
      "id": "d77b3c91",
      "metadata": {
        "id": "d77b3c91",
        "outputId": "8efcd470-da28-4a17-e6b3-786d9f642d80"
      },
      "outputs": [
        {
          "data": {
            "text/html": [
              "<div>\n",
              "<style scoped>\n",
              "    .dataframe tbody tr th:only-of-type {\n",
              "        vertical-align: middle;\n",
              "    }\n",
              "\n",
              "    .dataframe tbody tr th {\n",
              "        vertical-align: top;\n",
              "    }\n",
              "\n",
              "    .dataframe thead th {\n",
              "        text-align: right;\n",
              "    }\n",
              "</style>\n",
              "<table border=\"1\" class=\"dataframe\">\n",
              "  <thead>\n",
              "    <tr style=\"text-align: right;\">\n",
              "      <th></th>\n",
              "      <th>PassengerId</th>\n",
              "      <th>Survived</th>\n",
              "      <th>Pclass</th>\n",
              "      <th>Name</th>\n",
              "      <th>Sex</th>\n",
              "      <th>Age</th>\n",
              "      <th>SibSp</th>\n",
              "      <th>Parch</th>\n",
              "      <th>Ticket</th>\n",
              "      <th>Fare</th>\n",
              "      <th>Cabin</th>\n",
              "      <th>Embarked</th>\n",
              "    </tr>\n",
              "  </thead>\n",
              "  <tbody>\n",
              "    <tr>\n",
              "      <th>0</th>\n",
              "      <td>1</td>\n",
              "      <td>0</td>\n",
              "      <td>3</td>\n",
              "      <td>Braund, Mr. Owen Harris</td>\n",
              "      <td>male</td>\n",
              "      <td>22.0</td>\n",
              "      <td>1</td>\n",
              "      <td>0</td>\n",
              "      <td>A/5 21171</td>\n",
              "      <td>7.2500</td>\n",
              "      <td>None</td>\n",
              "      <td>S</td>\n",
              "    </tr>\n",
              "    <tr>\n",
              "      <th>1</th>\n",
              "      <td>2</td>\n",
              "      <td>1</td>\n",
              "      <td>1</td>\n",
              "      <td>Cumings, Mrs. John Bradley (Florence Briggs Th...</td>\n",
              "      <td>female</td>\n",
              "      <td>38.0</td>\n",
              "      <td>1</td>\n",
              "      <td>0</td>\n",
              "      <td>PC 17599</td>\n",
              "      <td>71.2833</td>\n",
              "      <td>C85</td>\n",
              "      <td>C</td>\n",
              "    </tr>\n",
              "    <tr>\n",
              "      <th>2</th>\n",
              "      <td>3</td>\n",
              "      <td>1</td>\n",
              "      <td>3</td>\n",
              "      <td>Heikkinen, Miss. Laina</td>\n",
              "      <td>female</td>\n",
              "      <td>26.0</td>\n",
              "      <td>0</td>\n",
              "      <td>0</td>\n",
              "      <td>STON/O2. 3101282</td>\n",
              "      <td>7.9250</td>\n",
              "      <td>None</td>\n",
              "      <td>S</td>\n",
              "    </tr>\n",
              "    <tr>\n",
              "      <th>3</th>\n",
              "      <td>4</td>\n",
              "      <td>1</td>\n",
              "      <td>1</td>\n",
              "      <td>Futrelle, Mrs. Jacques Heath (Lily May Peel)</td>\n",
              "      <td>female</td>\n",
              "      <td>35.0</td>\n",
              "      <td>1</td>\n",
              "      <td>0</td>\n",
              "      <td>113803</td>\n",
              "      <td>53.1000</td>\n",
              "      <td>C123</td>\n",
              "      <td>S</td>\n",
              "    </tr>\n",
              "    <tr>\n",
              "      <th>4</th>\n",
              "      <td>5</td>\n",
              "      <td>0</td>\n",
              "      <td>3</td>\n",
              "      <td>Allen, Mr. William Henry</td>\n",
              "      <td>male</td>\n",
              "      <td>35.0</td>\n",
              "      <td>0</td>\n",
              "      <td>0</td>\n",
              "      <td>373450</td>\n",
              "      <td>8.0500</td>\n",
              "      <td>None</td>\n",
              "      <td>S</td>\n",
              "    </tr>\n",
              "  </tbody>\n",
              "</table>\n",
              "</div>"
            ],
            "text/plain": [
              "   PassengerId  Survived  Pclass  \\\n",
              "0            1         0       3   \n",
              "1            2         1       1   \n",
              "2            3         1       3   \n",
              "3            4         1       1   \n",
              "4            5         0       3   \n",
              "\n",
              "                                                Name     Sex   Age  SibSp  \\\n",
              "0                            Braund, Mr. Owen Harris    male  22.0      1   \n",
              "1  Cumings, Mrs. John Bradley (Florence Briggs Th...  female  38.0      1   \n",
              "2                             Heikkinen, Miss. Laina  female  26.0      0   \n",
              "3       Futrelle, Mrs. Jacques Heath (Lily May Peel)  female  35.0      1   \n",
              "4                           Allen, Mr. William Henry    male  35.0      0   \n",
              "\n",
              "   Parch            Ticket     Fare Cabin Embarked  \n",
              "0      0         A/5 21171   7.2500  None        S  \n",
              "1      0          PC 17599  71.2833   C85        C  \n",
              "2      0  STON/O2. 3101282   7.9250  None        S  \n",
              "3      0            113803  53.1000  C123        S  \n",
              "4      0            373450   8.0500  None        S  "
            ]
          },
          "execution_count": 3,
          "metadata": {},
          "output_type": "execute_result"
        }
      ],
      "source": [
        "# 스파크 데이터프레임에서 판다스 데이터프레임으로 바꾸기\n",
        "titanic_pdf = titanic_sdf.select(\"*\").toPandas()\n",
        "titanic_pdf.head()"
      ]
    },
    {
      "cell_type": "markdown",
      "id": "24845e04",
      "metadata": {
        "id": "24845e04"
      },
      "source": [
        "# orderBy\n",
        "- 한 개 이상의 컬럼을 기준으로 정렬하는 기능"
      ]
    },
    {
      "cell_type": "code",
      "execution_count": null,
      "id": "2316d6f0",
      "metadata": {
        "id": "2316d6f0",
        "outputId": "549cbe9d-e813-410a-c6e2-b3fc1b0a0857"
      },
      "outputs": [
        {
          "data": {
            "text/html": [
              "<div>\n",
              "<style scoped>\n",
              "    .dataframe tbody tr th:only-of-type {\n",
              "        vertical-align: middle;\n",
              "    }\n",
              "\n",
              "    .dataframe tbody tr th {\n",
              "        vertical-align: top;\n",
              "    }\n",
              "\n",
              "    .dataframe thead th {\n",
              "        text-align: right;\n",
              "    }\n",
              "</style>\n",
              "<table border=\"1\" class=\"dataframe\">\n",
              "  <thead>\n",
              "    <tr style=\"text-align: right;\">\n",
              "      <th></th>\n",
              "      <th>PassengerId</th>\n",
              "      <th>Survived</th>\n",
              "      <th>Pclass</th>\n",
              "      <th>Name</th>\n",
              "      <th>Sex</th>\n",
              "      <th>Age</th>\n",
              "      <th>SibSp</th>\n",
              "      <th>Parch</th>\n",
              "      <th>Ticket</th>\n",
              "      <th>Fare</th>\n",
              "      <th>Cabin</th>\n",
              "      <th>Embarked</th>\n",
              "    </tr>\n",
              "  </thead>\n",
              "  <tbody>\n",
              "    <tr>\n",
              "      <th>146</th>\n",
              "      <td>147</td>\n",
              "      <td>1</td>\n",
              "      <td>3</td>\n",
              "      <td>\"Andersson, Mr. August Edvard (\"\"Wennerstrom\"\")\"</td>\n",
              "      <td>male</td>\n",
              "      <td>27.0</td>\n",
              "      <td>0</td>\n",
              "      <td>0</td>\n",
              "      <td>350043</td>\n",
              "      <td>7.7958</td>\n",
              "      <td>None</td>\n",
              "      <td>S</td>\n",
              "    </tr>\n",
              "    <tr>\n",
              "      <th>518</th>\n",
              "      <td>519</td>\n",
              "      <td>1</td>\n",
              "      <td>2</td>\n",
              "      <td>\"Angle, Mrs. William A (Florence \"\"Mary\"\" Agne...</td>\n",
              "      <td>female</td>\n",
              "      <td>36.0</td>\n",
              "      <td>1</td>\n",
              "      <td>0</td>\n",
              "      <td>226875</td>\n",
              "      <td>26.0000</td>\n",
              "      <td>None</td>\n",
              "      <td>S</td>\n",
              "    </tr>\n",
              "    <tr>\n",
              "      <th>290</th>\n",
              "      <td>291</td>\n",
              "      <td>1</td>\n",
              "      <td>1</td>\n",
              "      <td>\"Barber, Miss. Ellen \"\"Nellie\"\"\"</td>\n",
              "      <td>female</td>\n",
              "      <td>26.0</td>\n",
              "      <td>0</td>\n",
              "      <td>0</td>\n",
              "      <td>19877</td>\n",
              "      <td>78.8500</td>\n",
              "      <td>None</td>\n",
              "      <td>S</td>\n",
              "    </tr>\n",
              "    <tr>\n",
              "      <th>624</th>\n",
              "      <td>625</td>\n",
              "      <td>0</td>\n",
              "      <td>3</td>\n",
              "      <td>\"Bowen, Mr. David John \"\"Dai\"\"\"</td>\n",
              "      <td>male</td>\n",
              "      <td>21.0</td>\n",
              "      <td>0</td>\n",
              "      <td>0</td>\n",
              "      <td>54636</td>\n",
              "      <td>16.1000</td>\n",
              "      <td>None</td>\n",
              "      <td>S</td>\n",
              "    </tr>\n",
              "    <tr>\n",
              "      <th>507</th>\n",
              "      <td>508</td>\n",
              "      <td>1</td>\n",
              "      <td>1</td>\n",
              "      <td>\"Bradley, Mr. George (\"\"George Arthur Brayton\"\")\"</td>\n",
              "      <td>male</td>\n",
              "      <td>NaN</td>\n",
              "      <td>0</td>\n",
              "      <td>0</td>\n",
              "      <td>111427</td>\n",
              "      <td>26.5500</td>\n",
              "      <td>None</td>\n",
              "      <td>S</td>\n",
              "    </tr>\n",
              "  </tbody>\n",
              "</table>\n",
              "</div>"
            ],
            "text/plain": [
              "     PassengerId  Survived  Pclass  \\\n",
              "146          147         1       3   \n",
              "518          519         1       2   \n",
              "290          291         1       1   \n",
              "624          625         0       3   \n",
              "507          508         1       1   \n",
              "\n",
              "                                                  Name     Sex   Age  SibSp  \\\n",
              "146   \"Andersson, Mr. August Edvard (\"\"Wennerstrom\"\")\"    male  27.0      0   \n",
              "518  \"Angle, Mrs. William A (Florence \"\"Mary\"\" Agne...  female  36.0      1   \n",
              "290                   \"Barber, Miss. Ellen \"\"Nellie\"\"\"  female  26.0      0   \n",
              "624                    \"Bowen, Mr. David John \"\"Dai\"\"\"    male  21.0      0   \n",
              "507  \"Bradley, Mr. George (\"\"George Arthur Brayton\"\")\"    male   NaN      0   \n",
              "\n",
              "     Parch  Ticket     Fare Cabin Embarked  \n",
              "146      0  350043   7.7958  None        S  \n",
              "518      0  226875  26.0000  None        S  \n",
              "290      0   19877  78.8500  None        S  \n",
              "624      0   54636  16.1000  None        S  \n",
              "507      0  111427  26.5500  None        S  "
            ]
          },
          "execution_count": 4,
          "metadata": {},
          "output_type": "execute_result"
        }
      ],
      "source": [
        "# Pandas DataFrame 정렬하기\n",
        "\n",
        "# Name 컬럼 기준 오름차순 정렬\n",
        "titanic_pdf_sorted_1 = titanic_pdf.sort_values(by=[\"Name\"], ascending=True)\n",
        "titanic_pdf_sorted_1.head()"
      ]
    },
    {
      "cell_type": "code",
      "execution_count": null,
      "id": "3a04404d",
      "metadata": {
        "id": "3a04404d",
        "outputId": "de03701c-3835-4c24-8445-81485e8989e8"
      },
      "outputs": [
        {
          "data": {
            "text/html": [
              "<div>\n",
              "<style scoped>\n",
              "    .dataframe tbody tr th:only-of-type {\n",
              "        vertical-align: middle;\n",
              "    }\n",
              "\n",
              "    .dataframe tbody tr th {\n",
              "        vertical-align: top;\n",
              "    }\n",
              "\n",
              "    .dataframe thead th {\n",
              "        text-align: right;\n",
              "    }\n",
              "</style>\n",
              "<table border=\"1\" class=\"dataframe\">\n",
              "  <thead>\n",
              "    <tr style=\"text-align: right;\">\n",
              "      <th></th>\n",
              "      <th>PassengerId</th>\n",
              "      <th>Survived</th>\n",
              "      <th>Pclass</th>\n",
              "      <th>Name</th>\n",
              "      <th>Sex</th>\n",
              "      <th>Age</th>\n",
              "      <th>SibSp</th>\n",
              "      <th>Parch</th>\n",
              "      <th>Ticket</th>\n",
              "      <th>Fare</th>\n",
              "      <th>Cabin</th>\n",
              "      <th>Embarked</th>\n",
              "    </tr>\n",
              "  </thead>\n",
              "  <tbody>\n",
              "    <tr>\n",
              "      <th>146</th>\n",
              "      <td>147</td>\n",
              "      <td>1</td>\n",
              "      <td>3</td>\n",
              "      <td>\"Andersson, Mr. August Edvard (\"\"Wennerstrom\"\")\"</td>\n",
              "      <td>male</td>\n",
              "      <td>27.0</td>\n",
              "      <td>0</td>\n",
              "      <td>0</td>\n",
              "      <td>350043</td>\n",
              "      <td>7.7958</td>\n",
              "      <td>None</td>\n",
              "      <td>S</td>\n",
              "    </tr>\n",
              "    <tr>\n",
              "      <th>518</th>\n",
              "      <td>519</td>\n",
              "      <td>1</td>\n",
              "      <td>2</td>\n",
              "      <td>\"Angle, Mrs. William A (Florence \"\"Mary\"\" Agne...</td>\n",
              "      <td>female</td>\n",
              "      <td>36.0</td>\n",
              "      <td>1</td>\n",
              "      <td>0</td>\n",
              "      <td>226875</td>\n",
              "      <td>26.0000</td>\n",
              "      <td>None</td>\n",
              "      <td>S</td>\n",
              "    </tr>\n",
              "    <tr>\n",
              "      <th>290</th>\n",
              "      <td>291</td>\n",
              "      <td>1</td>\n",
              "      <td>1</td>\n",
              "      <td>\"Barber, Miss. Ellen \"\"Nellie\"\"\"</td>\n",
              "      <td>female</td>\n",
              "      <td>26.0</td>\n",
              "      <td>0</td>\n",
              "      <td>0</td>\n",
              "      <td>19877</td>\n",
              "      <td>78.8500</td>\n",
              "      <td>None</td>\n",
              "      <td>S</td>\n",
              "    </tr>\n",
              "    <tr>\n",
              "      <th>624</th>\n",
              "      <td>625</td>\n",
              "      <td>0</td>\n",
              "      <td>3</td>\n",
              "      <td>\"Bowen, Mr. David John \"\"Dai\"\"\"</td>\n",
              "      <td>male</td>\n",
              "      <td>21.0</td>\n",
              "      <td>0</td>\n",
              "      <td>0</td>\n",
              "      <td>54636</td>\n",
              "      <td>16.1000</td>\n",
              "      <td>None</td>\n",
              "      <td>S</td>\n",
              "    </tr>\n",
              "    <tr>\n",
              "      <th>507</th>\n",
              "      <td>508</td>\n",
              "      <td>1</td>\n",
              "      <td>1</td>\n",
              "      <td>\"Bradley, Mr. George (\"\"George Arthur Brayton\"\")\"</td>\n",
              "      <td>male</td>\n",
              "      <td>NaN</td>\n",
              "      <td>0</td>\n",
              "      <td>0</td>\n",
              "      <td>111427</td>\n",
              "      <td>26.5500</td>\n",
              "      <td>None</td>\n",
              "      <td>S</td>\n",
              "    </tr>\n",
              "  </tbody>\n",
              "</table>\n",
              "</div>"
            ],
            "text/plain": [
              "     PassengerId  Survived  Pclass  \\\n",
              "146          147         1       3   \n",
              "518          519         1       2   \n",
              "290          291         1       1   \n",
              "624          625         0       3   \n",
              "507          508         1       1   \n",
              "\n",
              "                                                  Name     Sex   Age  SibSp  \\\n",
              "146   \"Andersson, Mr. August Edvard (\"\"Wennerstrom\"\")\"    male  27.0      0   \n",
              "518  \"Angle, Mrs. William A (Florence \"\"Mary\"\" Agne...  female  36.0      1   \n",
              "290                   \"Barber, Miss. Ellen \"\"Nellie\"\"\"  female  26.0      0   \n",
              "624                    \"Bowen, Mr. David John \"\"Dai\"\"\"    male  21.0      0   \n",
              "507  \"Bradley, Mr. George (\"\"George Arthur Brayton\"\")\"    male   NaN      0   \n",
              "\n",
              "     Parch  Ticket     Fare Cabin Embarked  \n",
              "146      0  350043   7.7958  None        S  \n",
              "518      0  226875  26.0000  None        S  \n",
              "290      0   19877  78.8500  None        S  \n",
              "624      0   54636  16.1000  None        S  \n",
              "507      0  111427  26.5500  None        S  "
            ]
          },
          "execution_count": 6,
          "metadata": {},
          "output_type": "execute_result"
        }
      ],
      "source": [
        "# Name 컬럼 오름차순, PClass 내림차순\n",
        "titanic_pdf_sorted_2 = titanic_pdf.sort_values(by=[\"Name\", \"Pclass\"], ascending=[True, False])\n",
        "titanic_pdf_sorted_2.head()"
      ]
    },
    {
      "cell_type": "code",
      "execution_count": null,
      "id": "3163f083",
      "metadata": {
        "id": "3163f083",
        "outputId": "0a5c2ab4-42ff-44ab-e99d-2d6c64f4c85b"
      },
      "outputs": [
        {
          "name": "stdout",
          "output_type": "stream",
          "text": [
            "+-----------+--------+------+--------------------+------+----+-----+-----+----------------+-------+-----+--------+\n",
            "|PassengerId|Survived|Pclass|                Name|   Sex| Age|SibSp|Parch|          Ticket|   Fare|Cabin|Embarked|\n",
            "+-----------+--------+------+--------------------+------+----+-----+-----+----------------+-------+-----+--------+\n",
            "|          8|       0|     3|Palsson, Master. ...|  male| 2.0|    3|    1|          349909| 21.075| null|       S|\n",
            "|         14|       0|     3|Andersson, Mr. An...|  male|39.0|    1|    5|          347082| 31.275| null|       S|\n",
            "|          9|       1|     3|Johnson, Mrs. Osc...|female|27.0|    0|    2|          347742|11.1333| null|       S|\n",
            "|          3|       1|     3|Heikkinen, Miss. ...|female|26.0|    0|    0|STON/O2. 3101282|  7.925| null|       S|\n",
            "|         13|       0|     3|Saundercock, Mr. ...|  male|20.0|    0|    0|       A/5. 2151|   8.05| null|       S|\n",
            "+-----------+--------+------+--------------------+------+----+-----+-----+----------------+-------+-----+--------+\n",
            "only showing top 5 rows\n",
            "\n"
          ]
        }
      ],
      "source": [
        "# 스파크 데이터프레임 정렬하기\n",
        "from pyspark.sql.functions import col\n",
        "\n",
        "titanic_sdf.orderBy(col(\"Pclass\"), ascending=False).show(5)"
      ]
    },
    {
      "cell_type": "code",
      "execution_count": null,
      "id": "840a6957",
      "metadata": {
        "id": "840a6957",
        "outputId": "62353020-a52c-4033-88bd-13e84707d3ff"
      },
      "outputs": [
        {
          "name": "stdout",
          "output_type": "stream",
          "text": [
            "+-----------+--------+------+--------------------+------+----+-----+-----+------+------+-----+--------+\n",
            "|PassengerId|Survived|Pclass|                Name|   Sex| Age|SibSp|Parch|Ticket|  Fare|Cabin|Embarked|\n",
            "+-----------+--------+------+--------------------+------+----+-----+-----+------+------+-----+--------+\n",
            "|        852|       0|     3| Svensson, Mr. Johan|  male|74.0|    0|    0|347060| 7.775| null|       S|\n",
            "|        117|       0|     3|Connors, Mr. Patrick|  male|70.5|    0|    0|370369|  7.75| null|       Q|\n",
            "|        281|       0|     3|    Duane, Mr. Frank|  male|65.0|    0|    0|336439|  7.75| null|       Q|\n",
            "|        484|       1|     3|Turkula, Mrs. (He...|female|63.0|    0|    0|  4134|9.5875| null|       S|\n",
            "|        327|       0|     3|Nysveen, Mr. Joha...|  male|61.0|    0|    0|345364|6.2375| null|       S|\n",
            "+-----------+--------+------+--------------------+------+----+-----+-----+------+------+-----+--------+\n",
            "only showing top 5 rows\n",
            "\n"
          ]
        }
      ],
      "source": [
        "# 여러 개의 컬럼을 지정하기\n",
        "# Pclass 내림차순, Age 내림차순 정렬\n",
        "# titanic_sdf.orderBy(col(\"Pclass\"), col(\"Age\"), ascending=False).show(5)\n",
        "titanic_sdf.orderBy([col(\"Pclass\"), col(\"Age\")], ascending=False).show(5)"
      ]
    },
    {
      "cell_type": "code",
      "execution_count": null,
      "id": "a44ec713",
      "metadata": {
        "id": "a44ec713",
        "outputId": "3faa4ec4-2b04-4c88-f7d3-afef54020c81"
      },
      "outputs": [
        {
          "name": "stdout",
          "output_type": "stream",
          "text": [
            "+-----------+--------+------+--------------------+----+----+-----+-----+---------+-------+-----+--------+\n",
            "|PassengerId|Survived|Pclass|                Name| Sex| Age|SibSp|Parch|   Ticket|   Fare|Cabin|Embarked|\n",
            "+-----------+--------+------+--------------------+----+----+-----+-----+---------+-------+-----+--------+\n",
            "|        631|       1|     1|Barkworth, Mr. Al...|male|80.0|    0|    0|    27042|   30.0|  A23|       S|\n",
            "|         97|       0|     1|Goldschmidt, Mr. ...|male|71.0|    0|    0| PC 17754|34.6542|   A5|       C|\n",
            "|        494|       0|     1|Artagaveytia, Mr....|male|71.0|    0|    0| PC 17609|49.5042| null|       C|\n",
            "|        746|       0|     1|Crosby, Capt. Edw...|male|70.0|    1|    1|WE/P 5735|   71.0|  B22|       S|\n",
            "|        457|       0|     1|Millet, Mr. Franc...|male|65.0|    0|    0|    13509|  26.55|  E38|       S|\n",
            "+-----------+--------+------+--------------------+----+----+-----+-----+---------+-------+-----+--------+\n",
            "only showing top 5 rows\n",
            "\n"
          ]
        }
      ],
      "source": [
        "# Pclass 오름차순, Age 내림차순\n",
        "titanic_sdf.orderBy([col(\"Pclass\"), col(\"Age\")], ascending=[True, False]).show(5)"
      ]
    },
    {
      "cell_type": "code",
      "execution_count": null,
      "id": "2cff8d87",
      "metadata": {
        "id": "2cff8d87",
        "outputId": "f4bde1c7-d49f-483f-f99c-4fec4fd2c5da"
      },
      "outputs": [
        {
          "name": "stdout",
          "output_type": "stream",
          "text": [
            "+-----------+--------+------+--------------------+----+----+-----+-----+---------+-------+-----+--------+\n",
            "|PassengerId|Survived|Pclass|                Name| Sex| Age|SibSp|Parch|   Ticket|   Fare|Cabin|Embarked|\n",
            "+-----------+--------+------+--------------------+----+----+-----+-----+---------+-------+-----+--------+\n",
            "|        631|       1|     1|Barkworth, Mr. Al...|male|80.0|    0|    0|    27042|   30.0|  A23|       S|\n",
            "|         97|       0|     1|Goldschmidt, Mr. ...|male|71.0|    0|    0| PC 17754|34.6542|   A5|       C|\n",
            "|        494|       0|     1|Artagaveytia, Mr....|male|71.0|    0|    0| PC 17609|49.5042| null|       C|\n",
            "|        746|       0|     1|Crosby, Capt. Edw...|male|70.0|    1|    1|WE/P 5735|   71.0|  B22|       S|\n",
            "|        457|       0|     1|Millet, Mr. Franc...|male|65.0|    0|    0|    13509|  26.55|  E38|       S|\n",
            "+-----------+--------+------+--------------------+----+----+-----+-----+---------+-------+-----+--------+\n",
            "only showing top 5 rows\n",
            "\n"
          ]
        }
      ],
      "source": [
        "# orderBy와 동일한 메소드인 sort 사용하기\n",
        "titanic_sdf.sort(col(\"Pclass\").asc(), col(\"Age\").desc()).show(5)"
      ]
    },
    {
      "cell_type": "markdown",
      "id": "ea5e70e0",
      "metadata": {
        "id": "ea5e70e0"
      },
      "source": [
        "```sql\n",
        "select Pclass, Name\n",
        "from titanic_sdf\n",
        "order by Pclass asc, Name desc\n",
        "```"
      ]
    },
    {
      "cell_type": "code",
      "execution_count": null,
      "id": "a4692c12",
      "metadata": {
        "id": "a4692c12",
        "outputId": "2c0663cd-8050-46a2-c710-46f516d42851"
      },
      "outputs": [
        {
          "name": "stdout",
          "output_type": "stream",
          "text": [
            "+------+--------------------+\n",
            "|Pclass|                Name|\n",
            "+------+--------------------+\n",
            "|     1|Young, Miss. Mari...|\n",
            "|     1|  Wright, Mr. George|\n",
            "|     1|   Woolner, Mr. Hugh|\n",
            "|     1|Williams-Lambert,...|\n",
            "|     1|Williams, Mr. Cha...|\n",
            "+------+--------------------+\n",
            "only showing top 5 rows\n",
            "\n"
          ]
        }
      ],
      "source": [
        "titanic_sdf.select(col(\"Pclass\"), col(\"Name\")).orderBy(col(\"Pclass\").asc(), col(\"Name\").desc()).show(5)"
      ]
    },
    {
      "cell_type": "markdown",
      "id": "6aac3b3c",
      "metadata": {
        "id": "6aac3b3c"
      },
      "source": [
        "```sql\n",
        "select Pclass, Name\n",
        "from ( select *\n",
        "       from titanic_sdf\n",
        "       order by Pclass asc, Name desc)\n",
        "```"
      ]
    },
    {
      "cell_type": "code",
      "execution_count": null,
      "id": "2c2c990f",
      "metadata": {
        "id": "2c2c990f",
        "outputId": "200e546b-e797-4ea8-dae9-cb44cd82e383"
      },
      "outputs": [
        {
          "name": "stdout",
          "output_type": "stream",
          "text": [
            "+------+--------------------+\n",
            "|Pclass|                Name|\n",
            "+------+--------------------+\n",
            "|     1|Young, Miss. Mari...|\n",
            "|     1|  Wright, Mr. George|\n",
            "|     1|   Woolner, Mr. Hugh|\n",
            "|     1|Williams-Lambert,...|\n",
            "|     1|Williams, Mr. Cha...|\n",
            "+------+--------------------+\n",
            "only showing top 5 rows\n",
            "\n"
          ]
        }
      ],
      "source": [
        "titanic_sdf.orderBy(col(\"Pclass\").asc(), col(\"Name\").desc()).select(col(\"Pclass\"), col(\"Name\")).show(5)"
      ]
    },
    {
      "cell_type": "markdown",
      "id": "608a8222",
      "metadata": {
        "id": "608a8222"
      },
      "source": [
        "# Agg\n",
        "- Spark DataFrame은 DataFrame 객체에서 aggregation 메소드가 별로 없다.\n",
        "- Aggregation 메소드 적용 시에는 `pyspark.sql.functions`에 있는 `min, max, sum` 등의 함수를 사용하자"
      ]
    },
    {
      "cell_type": "code",
      "execution_count": null,
      "id": "2c801eb8",
      "metadata": {
        "id": "2c801eb8",
        "outputId": "2c09f1f0-558e-4419-d041-07d5ab747055"
      },
      "outputs": [
        {
          "name": "stdout",
          "output_type": "stream",
          "text": [
            "count : PassengerId    891\n",
            "Survived       891\n",
            "Pclass         891\n",
            "Name           891\n",
            "Sex            891\n",
            "Age            714\n",
            "SibSp          891\n",
            "Parch          891\n",
            "Ticket         891\n",
            "Fare           891\n",
            "Cabin          204\n",
            "Embarked       889\n",
            "dtype: int64\n",
            "type(count) : <class 'pandas.core.series.Series'>\n"
          ]
        }
      ],
      "source": [
        "# 판다스 데이터프레임 Aggregation\n",
        "print(\"count :\", titanic_pdf.count())\n",
        "# print(\"max :\", titanic_pdf.max())\n",
        "print(\"type(count) :\", type(titanic_pdf.count()))"
      ]
    },
    {
      "cell_type": "code",
      "execution_count": null,
      "id": "4651dfe5",
      "metadata": {
        "id": "4651dfe5",
        "outputId": "9648d3f4-a031-41e8-d6ca-279fdb96cbdc"
      },
      "outputs": [
        {
          "data": {
            "text/plain": [
              "Pclass     3.0\n",
              "Age       80.0\n",
              "dtype: float64"
            ]
          },
          "execution_count": 19,
          "metadata": {},
          "output_type": "execute_result"
        }
      ],
      "source": [
        "titanic_pdf[[\"Pclass\", \"Age\"]].max()"
      ]
    },
    {
      "cell_type": "code",
      "execution_count": null,
      "id": "3791608e",
      "metadata": {
        "id": "3791608e",
        "outputId": "bd3bd896-ba28-4eb3-8e77-5eb95c5bd03c"
      },
      "outputs": [
        {
          "data": {
            "text/plain": [
              "891"
            ]
          },
          "execution_count": 20,
          "metadata": {},
          "output_type": "execute_result"
        }
      ],
      "source": [
        "# spark DataFrame에서 count() 사용하기.\n",
        "titanic_sdf.count() # spark dataframe의 count() : 데이터 프레임의 행의 개수가 등장!"
      ]
    },
    {
      "cell_type": "code",
      "execution_count": null,
      "id": "6ee4d942",
      "metadata": {
        "id": "6ee4d942",
        "outputId": "080e714d-1e2b-4a83-d3bb-a14d06aeab25"
      },
      "outputs": [
        {
          "ename": "AttributeError",
          "evalue": "'DataFrame' object has no attribute 'max'",
          "output_type": "error",
          "traceback": [
            "\u001b[0;31m---------------------------------------------------------------------------\u001b[0m",
            "\u001b[0;31mAttributeError\u001b[0m                            Traceback (most recent call last)",
            "Cell \u001b[0;32mIn[21], line 1\u001b[0m\n\u001b[0;32m----> 1\u001b[0m \u001b[43mtitanic_sdf\u001b[49m\u001b[38;5;241;43m.\u001b[39;49m\u001b[43mmax\u001b[49m()\n",
            "File \u001b[0;32m~/miniconda3/envs/spark_env/lib/python3.8/site-packages/pyspark/sql/dataframe.py:1659\u001b[0m, in \u001b[0;36mDataFrame.__getattr__\u001b[0;34m(self, name)\u001b[0m\n\u001b[1;32m   1649\u001b[0m \u001b[38;5;250m\u001b[39m\u001b[38;5;124;03m\"\"\"Returns the :class:`Column` denoted by ``name``.\u001b[39;00m\n\u001b[1;32m   1650\u001b[0m \n\u001b[1;32m   1651\u001b[0m \u001b[38;5;124;03m.. versionadded:: 1.3.0\u001b[39;00m\n\u001b[0;32m   (...)\u001b[0m\n\u001b[1;32m   1656\u001b[0m \u001b[38;5;124;03m[Row(age=2), Row(age=5)]\u001b[39;00m\n\u001b[1;32m   1657\u001b[0m \u001b[38;5;124;03m\"\"\"\u001b[39;00m\n\u001b[1;32m   1658\u001b[0m \u001b[38;5;28;01mif\u001b[39;00m name \u001b[38;5;129;01mnot\u001b[39;00m \u001b[38;5;129;01min\u001b[39;00m \u001b[38;5;28mself\u001b[39m\u001b[38;5;241m.\u001b[39mcolumns:\n\u001b[0;32m-> 1659\u001b[0m     \u001b[38;5;28;01mraise\u001b[39;00m \u001b[38;5;167;01mAttributeError\u001b[39;00m(\n\u001b[1;32m   1660\u001b[0m         \u001b[38;5;124m\"\u001b[39m\u001b[38;5;124m'\u001b[39m\u001b[38;5;132;01m%s\u001b[39;00m\u001b[38;5;124m'\u001b[39m\u001b[38;5;124m object has no attribute \u001b[39m\u001b[38;5;124m'\u001b[39m\u001b[38;5;132;01m%s\u001b[39;00m\u001b[38;5;124m'\u001b[39m\u001b[38;5;124m\"\u001b[39m \u001b[38;5;241m%\u001b[39m (\u001b[38;5;28mself\u001b[39m\u001b[38;5;241m.\u001b[39m\u001b[38;5;18m__class__\u001b[39m\u001b[38;5;241m.\u001b[39m\u001b[38;5;18m__name__\u001b[39m, name))\n\u001b[1;32m   1661\u001b[0m jc \u001b[38;5;241m=\u001b[39m \u001b[38;5;28mself\u001b[39m\u001b[38;5;241m.\u001b[39m_jdf\u001b[38;5;241m.\u001b[39mapply(name)\n\u001b[1;32m   1662\u001b[0m \u001b[38;5;28;01mreturn\u001b[39;00m Column(jc)\n",
            "\u001b[0;31mAttributeError\u001b[0m: 'DataFrame' object has no attribute 'max'"
          ]
        }
      ],
      "source": [
        "titanic_sdf.max() # select max() from titanic_sdf"
      ]
    },
    {
      "cell_type": "code",
      "execution_count": null,
      "id": "2726c042",
      "metadata": {
        "id": "2726c042",
        "outputId": "ac81cd3d-45cf-4d1b-fd38-467aa935848e"
      },
      "outputs": [
        {
          "name": "stdout",
          "output_type": "stream",
          "text": [
            "+--------+\n",
            "|max(Age)|\n",
            "+--------+\n",
            "|    80.0|\n",
            "+--------+\n",
            "\n"
          ]
        }
      ],
      "source": [
        "from pyspark.sql.functions import max, sum, min\n",
        "\n",
        "titanic_sdf_max = titanic_sdf.select(max(\"Age\")) # select max(age) from titanic_sdf\n",
        "titanic_sdf_max.show()"
      ]
    },
    {
      "cell_type": "markdown",
      "id": "19e06da8",
      "metadata": {
        "id": "19e06da8"
      },
      "source": [
        "# groupBy"
      ]
    },
    {
      "cell_type": "code",
      "execution_count": null,
      "id": "4342cc7d",
      "metadata": {
        "id": "4342cc7d",
        "outputId": "d56453f6-5851-4c4e-d167-199033737224"
      },
      "outputs": [
        {
          "data": {
            "text/plain": [
              "<pandas.core.groupby.generic.DataFrameGroupBy object at 0x7f0412e0dd60>"
            ]
          },
          "execution_count": 23,
          "metadata": {},
          "output_type": "execute_result"
        }
      ],
      "source": [
        "# Pandas DataFrame groupBy\n",
        "titanic_pdf_groupby = titanic_pdf.groupby(by=\"Pclass\")\n",
        "titanic_pdf_groupby"
      ]
    },
    {
      "cell_type": "code",
      "execution_count": null,
      "id": "a059896f",
      "metadata": {
        "id": "a059896f",
        "outputId": "d97266f5-7869-4908-bd37-1178d474b21a"
      },
      "outputs": [
        {
          "data": {
            "text/html": [
              "<div>\n",
              "<style scoped>\n",
              "    .dataframe tbody tr th:only-of-type {\n",
              "        vertical-align: middle;\n",
              "    }\n",
              "\n",
              "    .dataframe tbody tr th {\n",
              "        vertical-align: top;\n",
              "    }\n",
              "\n",
              "    .dataframe thead th {\n",
              "        text-align: right;\n",
              "    }\n",
              "</style>\n",
              "<table border=\"1\" class=\"dataframe\">\n",
              "  <thead>\n",
              "    <tr style=\"text-align: right;\">\n",
              "      <th></th>\n",
              "      <th>PassengerId</th>\n",
              "      <th>Survived</th>\n",
              "      <th>Name</th>\n",
              "      <th>Sex</th>\n",
              "      <th>Age</th>\n",
              "      <th>SibSp</th>\n",
              "      <th>Parch</th>\n",
              "      <th>Ticket</th>\n",
              "      <th>Fare</th>\n",
              "      <th>Cabin</th>\n",
              "      <th>Embarked</th>\n",
              "    </tr>\n",
              "    <tr>\n",
              "      <th>Pclass</th>\n",
              "      <th></th>\n",
              "      <th></th>\n",
              "      <th></th>\n",
              "      <th></th>\n",
              "      <th></th>\n",
              "      <th></th>\n",
              "      <th></th>\n",
              "      <th></th>\n",
              "      <th></th>\n",
              "      <th></th>\n",
              "      <th></th>\n",
              "    </tr>\n",
              "  </thead>\n",
              "  <tbody>\n",
              "    <tr>\n",
              "      <th>1</th>\n",
              "      <td>216</td>\n",
              "      <td>216</td>\n",
              "      <td>216</td>\n",
              "      <td>216</td>\n",
              "      <td>186</td>\n",
              "      <td>216</td>\n",
              "      <td>216</td>\n",
              "      <td>216</td>\n",
              "      <td>216</td>\n",
              "      <td>176</td>\n",
              "      <td>214</td>\n",
              "    </tr>\n",
              "    <tr>\n",
              "      <th>2</th>\n",
              "      <td>184</td>\n",
              "      <td>184</td>\n",
              "      <td>184</td>\n",
              "      <td>184</td>\n",
              "      <td>173</td>\n",
              "      <td>184</td>\n",
              "      <td>184</td>\n",
              "      <td>184</td>\n",
              "      <td>184</td>\n",
              "      <td>16</td>\n",
              "      <td>184</td>\n",
              "    </tr>\n",
              "    <tr>\n",
              "      <th>3</th>\n",
              "      <td>491</td>\n",
              "      <td>491</td>\n",
              "      <td>491</td>\n",
              "      <td>491</td>\n",
              "      <td>355</td>\n",
              "      <td>491</td>\n",
              "      <td>491</td>\n",
              "      <td>491</td>\n",
              "      <td>491</td>\n",
              "      <td>12</td>\n",
              "      <td>491</td>\n",
              "    </tr>\n",
              "  </tbody>\n",
              "</table>\n",
              "</div>"
            ],
            "text/plain": [
              "        PassengerId  Survived  Name  Sex  Age  SibSp  Parch  Ticket  Fare  \\\n",
              "Pclass                                                                      \n",
              "1               216       216   216  216  186    216    216     216   216   \n",
              "2               184       184   184  184  173    184    184     184   184   \n",
              "3               491       491   491  491  355    491    491     491   491   \n",
              "\n",
              "        Cabin  Embarked  \n",
              "Pclass                   \n",
              "1         176       214  \n",
              "2          16       184  \n",
              "3          12       491  "
            ]
          },
          "execution_count": 24,
          "metadata": {},
          "output_type": "execute_result"
        }
      ],
      "source": [
        "titanic_pdf_groupby.count()"
      ]
    },
    {
      "cell_type": "code",
      "execution_count": null,
      "id": "05bd3da3",
      "metadata": {
        "id": "05bd3da3",
        "outputId": "b2948a70-0ce2-4e97-a48b-25615158a38f"
      },
      "outputs": [
        {
          "data": {
            "text/plain": [
              "Pclass\n",
              "1    186\n",
              "2    173\n",
              "3    355\n",
              "Name: Age, dtype: int64"
            ]
          },
          "execution_count": 25,
          "metadata": {},
          "output_type": "execute_result"
        }
      ],
      "source": [
        "titanic_pdf_groupby[\"Age\"].count()"
      ]
    },
    {
      "cell_type": "code",
      "execution_count": null,
      "id": "b064c757",
      "metadata": {
        "id": "b064c757",
        "outputId": "c52e4dbc-2346-496e-ac19-001c0e148535"
      },
      "outputs": [
        {
          "data": {
            "text/html": [
              "<div>\n",
              "<style scoped>\n",
              "    .dataframe tbody tr th:only-of-type {\n",
              "        vertical-align: middle;\n",
              "    }\n",
              "\n",
              "    .dataframe tbody tr th {\n",
              "        vertical-align: top;\n",
              "    }\n",
              "\n",
              "    .dataframe thead th {\n",
              "        text-align: right;\n",
              "    }\n",
              "</style>\n",
              "<table border=\"1\" class=\"dataframe\">\n",
              "  <thead>\n",
              "    <tr style=\"text-align: right;\">\n",
              "      <th></th>\n",
              "      <th>Age</th>\n",
              "      <th>SibSp</th>\n",
              "      <th>Fare</th>\n",
              "    </tr>\n",
              "    <tr>\n",
              "      <th>Pclass</th>\n",
              "      <th></th>\n",
              "      <th></th>\n",
              "      <th></th>\n",
              "    </tr>\n",
              "  </thead>\n",
              "  <tbody>\n",
              "    <tr>\n",
              "      <th>1</th>\n",
              "      <td>80.0</td>\n",
              "      <td>90</td>\n",
              "      <td>84.154687</td>\n",
              "    </tr>\n",
              "    <tr>\n",
              "      <th>2</th>\n",
              "      <td>70.0</td>\n",
              "      <td>74</td>\n",
              "      <td>20.662183</td>\n",
              "    </tr>\n",
              "    <tr>\n",
              "      <th>3</th>\n",
              "      <td>74.0</td>\n",
              "      <td>302</td>\n",
              "      <td>13.675550</td>\n",
              "    </tr>\n",
              "  </tbody>\n",
              "</table>\n",
              "</div>"
            ],
            "text/plain": [
              "         Age  SibSp       Fare\n",
              "Pclass                        \n",
              "1       80.0     90  84.154687\n",
              "2       70.0     74  20.662183\n",
              "3       74.0    302  13.675550"
            ]
          },
          "execution_count": 27,
          "metadata": {},
          "output_type": "execute_result"
        }
      ],
      "source": [
        "# 특정 컬럼에 특정 집계 연산 수행하기 agg\n",
        "agg_format = {\n",
        "    \"Age\": \"max\",\n",
        "    \"SibSp\": \"sum\",\n",
        "    \"Fare\": \"mean\"\n",
        "}\n",
        "\n",
        "titanic_pdf_groupby.agg(agg_format)"
      ]
    },
    {
      "cell_type": "code",
      "execution_count": null,
      "id": "c2047024",
      "metadata": {
        "id": "c2047024",
        "outputId": "30039186-e204-4599-86bb-ec4ed60023f7"
      },
      "outputs": [
        {
          "data": {
            "text/plain": [
              "Pclass\n",
              "3    491\n",
              "1    216\n",
              "2    184\n",
              "Name: count, dtype: int64"
            ]
          },
          "execution_count": 28,
          "metadata": {},
          "output_type": "execute_result"
        }
      ],
      "source": [
        "# value_counts()를 시리즈에 적용 시 해당 시리즈 내의 값 별로 건수(count)를 구한다.\n",
        "titanic_pdf[\"Pclass\"].value_counts()"
      ]
    },
    {
      "cell_type": "code",
      "execution_count": null,
      "id": "49ead089",
      "metadata": {
        "id": "49ead089",
        "outputId": "c15b00ec-d130-4b6e-89f1-65fefdde55ac"
      },
      "outputs": [
        {
          "name": "stdout",
          "output_type": "stream",
          "text": [
            "+------+-----+\n",
            "|Pclass|count|\n",
            "+------+-----+\n",
            "|     1|  216|\n",
            "|     3|  491|\n",
            "|     2|  184|\n",
            "+------+-----+\n",
            "\n"
          ]
        }
      ],
      "source": [
        "# 스파크 데이터프레임의 groupBy\n",
        "titanic_sdf.groupBy(\"Pclass\").count().show() # select pclass, count(*) from titanic_sdf group by pclass"
      ]
    },
    {
      "cell_type": "code",
      "execution_count": null,
      "id": "03de4224",
      "metadata": {
        "id": "03de4224",
        "outputId": "36c31bca-c62c-40a5-db58-16709aea8f0a"
      },
      "outputs": [
        {
          "data": {
            "text/plain": [
              "pyspark.sql.group.GroupedData"
            ]
          },
          "execution_count": 30,
          "metadata": {},
          "output_type": "execute_result"
        }
      ],
      "source": [
        "type(titanic_sdf.groupBy(\"Pclass\"))"
      ]
    },
    {
      "cell_type": "code",
      "execution_count": null,
      "id": "480c1bf7",
      "metadata": {
        "id": "480c1bf7",
        "outputId": "e0ee3712-f6ee-4580-8769-4f00095baeb4"
      },
      "outputs": [
        {
          "name": "stdout",
          "output_type": "stream",
          "text": [
            "+------+-----+\n",
            "|Pclass|count|\n",
            "+------+-----+\n",
            "|     3|  491|\n",
            "|     1|  216|\n",
            "|     2|  184|\n",
            "+------+-----+\n",
            "\n"
          ]
        }
      ],
      "source": [
        "titanic_sdf.groupBy(\"Pclass\").count().orderBy(\"count\", ascending=False).show()"
      ]
    },
    {
      "cell_type": "code",
      "execution_count": null,
      "id": "da12b197",
      "metadata": {
        "id": "da12b197",
        "outputId": "131bb72b-bd5e-47e5-d957-a54deff197cf"
      },
      "outputs": [
        {
          "name": "stdout",
          "output_type": "stream",
          "text": [
            "+------+----------------+-------------+-----------+--------+----------+----------+---------+\n",
            "|Pclass|max(PassengerId)|max(Survived)|max(Pclass)|max(Age)|max(SibSp)|max(Parch)|max(Fare)|\n",
            "+------+----------------+-------------+-----------+--------+----------+----------+---------+\n",
            "|     1|             890|            1|          1|    80.0|         3|         4| 512.3292|\n",
            "|     3|             891|            1|          3|    74.0|         8|         6|    69.55|\n",
            "|     2|             887|            1|          2|    70.0|         3|         3|     73.5|\n",
            "+------+----------------+-------------+-----------+--------+----------+----------+---------+\n",
            "\n"
          ]
        }
      ],
      "source": [
        "# count()가 아닌 다른 aggregation 메소드를 사용하면 pandas dataframe의 groupby와 유사하게 컬럼 레벨로 전체 집계\n",
        "titanic_sdf.groupBy(\"Pclass\").max().show()"
      ]
    },
    {
      "cell_type": "code",
      "execution_count": null,
      "id": "157f2739",
      "metadata": {
        "id": "157f2739",
        "outputId": "ea6b5afd-729f-4fc3-f1bd-cbd6896ef879"
      },
      "outputs": [
        {
          "name": "stdout",
          "output_type": "stream",
          "text": [
            "+------+--------+\n",
            "|Pclass|max(Age)|\n",
            "+------+--------+\n",
            "|     1|    80.0|\n",
            "|     3|    74.0|\n",
            "|     2|    70.0|\n",
            "+------+--------+\n",
            "\n"
          ]
        }
      ],
      "source": [
        "# group by를 이용해서 특정 컬럼에 aggregation을 적용. max(\"컬럼명\")과 같이 사용하면 됨.\n",
        "titanic_sdf.groupBy(\"Pclass\").max(\"Age\").show()"
      ]
    },
    {
      "cell_type": "code",
      "execution_count": null,
      "id": "e362e587",
      "metadata": {
        "id": "e362e587",
        "outputId": "cadaf269-c210-4ff1-d695-1317c2cc9339"
      },
      "outputs": [
        {
          "ename": "TypeError",
          "evalue": "Column is not iterable",
          "output_type": "error",
          "traceback": [
            "\u001b[0;31m---------------------------------------------------------------------------\u001b[0m",
            "\u001b[0;31mTypeError\u001b[0m                                 Traceback (most recent call last)",
            "Cell \u001b[0;32mIn[34], line 1\u001b[0m\n\u001b[0;32m----> 1\u001b[0m \u001b[43mtitanic_sdf\u001b[49m\u001b[38;5;241;43m.\u001b[39;49m\u001b[43mgroupBy\u001b[49m\u001b[43m(\u001b[49m\u001b[38;5;124;43m\"\u001b[39;49m\u001b[38;5;124;43mPclass\u001b[39;49m\u001b[38;5;124;43m\"\u001b[39;49m\u001b[43m)\u001b[49m\u001b[38;5;241;43m.\u001b[39;49m\u001b[43mmax\u001b[49m\u001b[43m(\u001b[49m\u001b[43mcol\u001b[49m\u001b[43m(\u001b[49m\u001b[38;5;124;43m\"\u001b[39;49m\u001b[38;5;124;43mAge\u001b[39;49m\u001b[38;5;124;43m\"\u001b[39;49m\u001b[43m)\u001b[49m\u001b[43m)\u001b[49m\u001b[38;5;241m.\u001b[39mshow()\n",
            "File \u001b[0;32m~/miniconda3/envs/spark_env/lib/python3.8/site-packages/pyspark/sql/group.py:41\u001b[0m, in \u001b[0;36mdf_varargs_api.<locals>._api\u001b[0;34m(self, *cols)\u001b[0m\n\u001b[1;32m     39\u001b[0m \u001b[38;5;28;01mdef\u001b[39;00m \u001b[38;5;21m_api\u001b[39m(\u001b[38;5;28mself\u001b[39m, \u001b[38;5;241m*\u001b[39mcols):\n\u001b[1;32m     40\u001b[0m     name \u001b[38;5;241m=\u001b[39m f\u001b[38;5;241m.\u001b[39m\u001b[38;5;18m__name__\u001b[39m\n\u001b[0;32m---> 41\u001b[0m     jdf \u001b[38;5;241m=\u001b[39m \u001b[38;5;28mgetattr\u001b[39m(\u001b[38;5;28mself\u001b[39m\u001b[38;5;241m.\u001b[39m_jgd, name)(\u001b[43m_to_seq\u001b[49m\u001b[43m(\u001b[49m\u001b[38;5;28;43mself\u001b[39;49m\u001b[38;5;241;43m.\u001b[39;49m\u001b[43msql_ctx\u001b[49m\u001b[38;5;241;43m.\u001b[39;49m\u001b[43m_sc\u001b[49m\u001b[43m,\u001b[49m\u001b[43m \u001b[49m\u001b[43mcols\u001b[49m\u001b[43m)\u001b[49m)\n\u001b[1;32m     42\u001b[0m     \u001b[38;5;28;01mreturn\u001b[39;00m DataFrame(jdf, \u001b[38;5;28mself\u001b[39m\u001b[38;5;241m.\u001b[39msql_ctx)\n",
            "File \u001b[0;32m~/miniconda3/envs/spark_env/lib/python3.8/site-packages/pyspark/sql/column.py:62\u001b[0m, in \u001b[0;36m_to_seq\u001b[0;34m(sc, cols, converter)\u001b[0m\n\u001b[1;32m     60\u001b[0m \u001b[38;5;28;01mif\u001b[39;00m converter:\n\u001b[1;32m     61\u001b[0m     cols \u001b[38;5;241m=\u001b[39m [converter(c) \u001b[38;5;28;01mfor\u001b[39;00m c \u001b[38;5;129;01min\u001b[39;00m cols]\n\u001b[0;32m---> 62\u001b[0m \u001b[38;5;28;01mreturn\u001b[39;00m \u001b[43msc\u001b[49m\u001b[38;5;241;43m.\u001b[39;49m\u001b[43m_jvm\u001b[49m\u001b[38;5;241;43m.\u001b[39;49m\u001b[43mPythonUtils\u001b[49m\u001b[38;5;241;43m.\u001b[39;49m\u001b[43mtoSeq\u001b[49m\u001b[43m(\u001b[49m\u001b[43mcols\u001b[49m\u001b[43m)\u001b[49m\n",
            "File \u001b[0;32m~/miniconda3/envs/spark_env/lib/python3.8/site-packages/py4j/java_gateway.py:1313\u001b[0m, in \u001b[0;36mJavaMember.__call__\u001b[0;34m(self, *args)\u001b[0m\n\u001b[1;32m   1312\u001b[0m \u001b[38;5;28;01mdef\u001b[39;00m \u001b[38;5;21m__call__\u001b[39m(\u001b[38;5;28mself\u001b[39m, \u001b[38;5;241m*\u001b[39margs):\n\u001b[0;32m-> 1313\u001b[0m     args_command, temp_args \u001b[38;5;241m=\u001b[39m \u001b[38;5;28;43mself\u001b[39;49m\u001b[38;5;241;43m.\u001b[39;49m\u001b[43m_build_args\u001b[49m\u001b[43m(\u001b[49m\u001b[38;5;241;43m*\u001b[39;49m\u001b[43margs\u001b[49m\u001b[43m)\u001b[49m\n\u001b[1;32m   1315\u001b[0m     command \u001b[38;5;241m=\u001b[39m proto\u001b[38;5;241m.\u001b[39mCALL_COMMAND_NAME \u001b[38;5;241m+\u001b[39m\\\n\u001b[1;32m   1316\u001b[0m         \u001b[38;5;28mself\u001b[39m\u001b[38;5;241m.\u001b[39mcommand_header \u001b[38;5;241m+\u001b[39m\\\n\u001b[1;32m   1317\u001b[0m         args_command \u001b[38;5;241m+\u001b[39m\\\n\u001b[1;32m   1318\u001b[0m         proto\u001b[38;5;241m.\u001b[39mEND_COMMAND_PART\n\u001b[1;32m   1320\u001b[0m     answer \u001b[38;5;241m=\u001b[39m \u001b[38;5;28mself\u001b[39m\u001b[38;5;241m.\u001b[39mgateway_client\u001b[38;5;241m.\u001b[39msend_command(command)\n",
            "File \u001b[0;32m~/miniconda3/envs/spark_env/lib/python3.8/site-packages/py4j/java_gateway.py:1277\u001b[0m, in \u001b[0;36mJavaMember._build_args\u001b[0;34m(self, *args)\u001b[0m\n\u001b[1;32m   1275\u001b[0m \u001b[38;5;28;01mdef\u001b[39;00m \u001b[38;5;21m_build_args\u001b[39m(\u001b[38;5;28mself\u001b[39m, \u001b[38;5;241m*\u001b[39margs):\n\u001b[1;32m   1276\u001b[0m     \u001b[38;5;28;01mif\u001b[39;00m \u001b[38;5;28mself\u001b[39m\u001b[38;5;241m.\u001b[39mconverters \u001b[38;5;129;01mis\u001b[39;00m \u001b[38;5;129;01mnot\u001b[39;00m \u001b[38;5;28;01mNone\u001b[39;00m \u001b[38;5;129;01mand\u001b[39;00m \u001b[38;5;28mlen\u001b[39m(\u001b[38;5;28mself\u001b[39m\u001b[38;5;241m.\u001b[39mconverters) \u001b[38;5;241m>\u001b[39m \u001b[38;5;241m0\u001b[39m:\n\u001b[0;32m-> 1277\u001b[0m         (new_args, temp_args) \u001b[38;5;241m=\u001b[39m \u001b[38;5;28;43mself\u001b[39;49m\u001b[38;5;241;43m.\u001b[39;49m\u001b[43m_get_args\u001b[49m\u001b[43m(\u001b[49m\u001b[43margs\u001b[49m\u001b[43m)\u001b[49m\n\u001b[1;32m   1278\u001b[0m     \u001b[38;5;28;01melse\u001b[39;00m:\n\u001b[1;32m   1279\u001b[0m         new_args \u001b[38;5;241m=\u001b[39m args\n",
            "File \u001b[0;32m~/miniconda3/envs/spark_env/lib/python3.8/site-packages/py4j/java_gateway.py:1264\u001b[0m, in \u001b[0;36mJavaMember._get_args\u001b[0;34m(self, args)\u001b[0m\n\u001b[1;32m   1262\u001b[0m \u001b[38;5;28;01mfor\u001b[39;00m converter \u001b[38;5;129;01min\u001b[39;00m \u001b[38;5;28mself\u001b[39m\u001b[38;5;241m.\u001b[39mgateway_client\u001b[38;5;241m.\u001b[39mconverters:\n\u001b[1;32m   1263\u001b[0m     \u001b[38;5;28;01mif\u001b[39;00m converter\u001b[38;5;241m.\u001b[39mcan_convert(arg):\n\u001b[0;32m-> 1264\u001b[0m         temp_arg \u001b[38;5;241m=\u001b[39m \u001b[43mconverter\u001b[49m\u001b[38;5;241;43m.\u001b[39;49m\u001b[43mconvert\u001b[49m\u001b[43m(\u001b[49m\u001b[43marg\u001b[49m\u001b[43m,\u001b[49m\u001b[43m \u001b[49m\u001b[38;5;28;43mself\u001b[39;49m\u001b[38;5;241;43m.\u001b[39;49m\u001b[43mgateway_client\u001b[49m\u001b[43m)\u001b[49m\n\u001b[1;32m   1265\u001b[0m         temp_args\u001b[38;5;241m.\u001b[39mappend(temp_arg)\n\u001b[1;32m   1266\u001b[0m         new_args\u001b[38;5;241m.\u001b[39mappend(temp_arg)\n",
            "File \u001b[0;32m~/miniconda3/envs/spark_env/lib/python3.8/site-packages/py4j/java_collections.py:511\u001b[0m, in \u001b[0;36mListConverter.convert\u001b[0;34m(self, object, gateway_client)\u001b[0m\n\u001b[1;32m    509\u001b[0m java_list \u001b[38;5;241m=\u001b[39m ArrayList()\n\u001b[1;32m    510\u001b[0m \u001b[38;5;28;01mfor\u001b[39;00m element \u001b[38;5;129;01min\u001b[39;00m \u001b[38;5;28mobject\u001b[39m:\n\u001b[0;32m--> 511\u001b[0m     \u001b[43mjava_list\u001b[49m\u001b[38;5;241;43m.\u001b[39;49m\u001b[43madd\u001b[49m\u001b[43m(\u001b[49m\u001b[43melement\u001b[49m\u001b[43m)\u001b[49m\n\u001b[1;32m    512\u001b[0m \u001b[38;5;28;01mreturn\u001b[39;00m java_list\n",
            "File \u001b[0;32m~/miniconda3/envs/spark_env/lib/python3.8/site-packages/py4j/java_gateway.py:1313\u001b[0m, in \u001b[0;36mJavaMember.__call__\u001b[0;34m(self, *args)\u001b[0m\n\u001b[1;32m   1312\u001b[0m \u001b[38;5;28;01mdef\u001b[39;00m \u001b[38;5;21m__call__\u001b[39m(\u001b[38;5;28mself\u001b[39m, \u001b[38;5;241m*\u001b[39margs):\n\u001b[0;32m-> 1313\u001b[0m     args_command, temp_args \u001b[38;5;241m=\u001b[39m \u001b[38;5;28;43mself\u001b[39;49m\u001b[38;5;241;43m.\u001b[39;49m\u001b[43m_build_args\u001b[49m\u001b[43m(\u001b[49m\u001b[38;5;241;43m*\u001b[39;49m\u001b[43margs\u001b[49m\u001b[43m)\u001b[49m\n\u001b[1;32m   1315\u001b[0m     command \u001b[38;5;241m=\u001b[39m proto\u001b[38;5;241m.\u001b[39mCALL_COMMAND_NAME \u001b[38;5;241m+\u001b[39m\\\n\u001b[1;32m   1316\u001b[0m         \u001b[38;5;28mself\u001b[39m\u001b[38;5;241m.\u001b[39mcommand_header \u001b[38;5;241m+\u001b[39m\\\n\u001b[1;32m   1317\u001b[0m         args_command \u001b[38;5;241m+\u001b[39m\\\n\u001b[1;32m   1318\u001b[0m         proto\u001b[38;5;241m.\u001b[39mEND_COMMAND_PART\n\u001b[1;32m   1320\u001b[0m     answer \u001b[38;5;241m=\u001b[39m \u001b[38;5;28mself\u001b[39m\u001b[38;5;241m.\u001b[39mgateway_client\u001b[38;5;241m.\u001b[39msend_command(command)\n",
            "File \u001b[0;32m~/miniconda3/envs/spark_env/lib/python3.8/site-packages/py4j/java_gateway.py:1277\u001b[0m, in \u001b[0;36mJavaMember._build_args\u001b[0;34m(self, *args)\u001b[0m\n\u001b[1;32m   1275\u001b[0m \u001b[38;5;28;01mdef\u001b[39;00m \u001b[38;5;21m_build_args\u001b[39m(\u001b[38;5;28mself\u001b[39m, \u001b[38;5;241m*\u001b[39margs):\n\u001b[1;32m   1276\u001b[0m     \u001b[38;5;28;01mif\u001b[39;00m \u001b[38;5;28mself\u001b[39m\u001b[38;5;241m.\u001b[39mconverters \u001b[38;5;129;01mis\u001b[39;00m \u001b[38;5;129;01mnot\u001b[39;00m \u001b[38;5;28;01mNone\u001b[39;00m \u001b[38;5;129;01mand\u001b[39;00m \u001b[38;5;28mlen\u001b[39m(\u001b[38;5;28mself\u001b[39m\u001b[38;5;241m.\u001b[39mconverters) \u001b[38;5;241m>\u001b[39m \u001b[38;5;241m0\u001b[39m:\n\u001b[0;32m-> 1277\u001b[0m         (new_args, temp_args) \u001b[38;5;241m=\u001b[39m \u001b[38;5;28;43mself\u001b[39;49m\u001b[38;5;241;43m.\u001b[39;49m\u001b[43m_get_args\u001b[49m\u001b[43m(\u001b[49m\u001b[43margs\u001b[49m\u001b[43m)\u001b[49m\n\u001b[1;32m   1278\u001b[0m     \u001b[38;5;28;01melse\u001b[39;00m:\n\u001b[1;32m   1279\u001b[0m         new_args \u001b[38;5;241m=\u001b[39m args\n",
            "File \u001b[0;32m~/miniconda3/envs/spark_env/lib/python3.8/site-packages/py4j/java_gateway.py:1264\u001b[0m, in \u001b[0;36mJavaMember._get_args\u001b[0;34m(self, args)\u001b[0m\n\u001b[1;32m   1262\u001b[0m \u001b[38;5;28;01mfor\u001b[39;00m converter \u001b[38;5;129;01min\u001b[39;00m \u001b[38;5;28mself\u001b[39m\u001b[38;5;241m.\u001b[39mgateway_client\u001b[38;5;241m.\u001b[39mconverters:\n\u001b[1;32m   1263\u001b[0m     \u001b[38;5;28;01mif\u001b[39;00m converter\u001b[38;5;241m.\u001b[39mcan_convert(arg):\n\u001b[0;32m-> 1264\u001b[0m         temp_arg \u001b[38;5;241m=\u001b[39m \u001b[43mconverter\u001b[49m\u001b[38;5;241;43m.\u001b[39;49m\u001b[43mconvert\u001b[49m\u001b[43m(\u001b[49m\u001b[43marg\u001b[49m\u001b[43m,\u001b[49m\u001b[43m \u001b[49m\u001b[38;5;28;43mself\u001b[39;49m\u001b[38;5;241;43m.\u001b[39;49m\u001b[43mgateway_client\u001b[49m\u001b[43m)\u001b[49m\n\u001b[1;32m   1265\u001b[0m         temp_args\u001b[38;5;241m.\u001b[39mappend(temp_arg)\n\u001b[1;32m   1266\u001b[0m         new_args\u001b[38;5;241m.\u001b[39mappend(temp_arg)\n",
            "File \u001b[0;32m~/miniconda3/envs/spark_env/lib/python3.8/site-packages/py4j/java_collections.py:510\u001b[0m, in \u001b[0;36mListConverter.convert\u001b[0;34m(self, object, gateway_client)\u001b[0m\n\u001b[1;32m    508\u001b[0m ArrayList \u001b[38;5;241m=\u001b[39m JavaClass(\u001b[38;5;124m\"\u001b[39m\u001b[38;5;124mjava.util.ArrayList\u001b[39m\u001b[38;5;124m\"\u001b[39m, gateway_client)\n\u001b[1;32m    509\u001b[0m java_list \u001b[38;5;241m=\u001b[39m ArrayList()\n\u001b[0;32m--> 510\u001b[0m \u001b[38;5;28;01mfor\u001b[39;00m element \u001b[38;5;129;01min\u001b[39;00m \u001b[38;5;28mobject\u001b[39m:\n\u001b[1;32m    511\u001b[0m     java_list\u001b[38;5;241m.\u001b[39madd(element)\n\u001b[1;32m    512\u001b[0m \u001b[38;5;28;01mreturn\u001b[39;00m java_list\n",
            "File \u001b[0;32m~/miniconda3/envs/spark_env/lib/python3.8/site-packages/pyspark/sql/column.py:463\u001b[0m, in \u001b[0;36mColumn.__iter__\u001b[0;34m(self)\u001b[0m\n\u001b[1;32m    462\u001b[0m \u001b[38;5;28;01mdef\u001b[39;00m \u001b[38;5;21m__iter__\u001b[39m(\u001b[38;5;28mself\u001b[39m):\n\u001b[0;32m--> 463\u001b[0m     \u001b[38;5;28;01mraise\u001b[39;00m \u001b[38;5;167;01mTypeError\u001b[39;00m(\u001b[38;5;124m\"\u001b[39m\u001b[38;5;124mColumn is not iterable\u001b[39m\u001b[38;5;124m\"\u001b[39m)\n",
            "\u001b[0;31mTypeError\u001b[0m: Column is not iterable"
          ]
        }
      ],
      "source": [
        "titanic_sdf.groupBy(\"Pclass\").max(col(\"Age\")).show()"
      ]
    },
    {
      "cell_type": "code",
      "execution_count": null,
      "id": "d6654783",
      "metadata": {
        "id": "d6654783",
        "outputId": "d3abe9a8-a333-4a7d-f8f6-a7ed014fae44"
      },
      "outputs": [
        {
          "name": "stdout",
          "output_type": "stream",
          "text": [
            "+------+--------+--------+\n",
            "|Pclass|Embarked|max(Age)|\n",
            "+------+--------+--------+\n",
            "|     3|       C|    45.5|\n",
            "|     2|       C|    36.0|\n",
            "|     1|    null|    62.0|\n",
            "|     1|       Q|    44.0|\n",
            "|     3|       Q|    70.5|\n",
            "|     2|       Q|    57.0|\n",
            "|     1|       C|    71.0|\n",
            "|     1|       S|    80.0|\n",
            "|     3|       S|    74.0|\n",
            "|     2|       S|    70.0|\n",
            "+------+--------+--------+\n",
            "\n"
          ]
        }
      ],
      "source": [
        "titanic_sdf.groupBy([\"Pclass\", \"Embarked\"]).max(\"Age\").show()"
      ]
    },
    {
      "cell_type": "code",
      "execution_count": null,
      "id": "1d071447",
      "metadata": {
        "id": "1d071447",
        "outputId": "1355b719-885c-4469-9699-5b1e7f62797b"
      },
      "outputs": [
        {
          "name": "stdout",
          "output_type": "stream",
          "text": [
            "+------+--------+--------+--------+------------------+\n",
            "|Pclass|max(Age)|min(Age)|sum(Age)|          avg(Age)|\n",
            "+------+--------+--------+--------+------------------+\n",
            "|     1|    80.0|    0.92| 7111.42|38.233440860215055|\n",
            "|     3|    74.0|    0.42| 8924.92| 25.14061971830986|\n",
            "|     2|    70.0|    0.67| 5168.83| 29.87763005780347|\n",
            "+------+--------+--------+--------+------------------+\n",
            "\n"
          ]
        }
      ],
      "source": [
        "from pyspark.sql.functions import max, avg, sum, min\n",
        "\n",
        "# select max(age), min(age), sum(age), avg(age) from titanic_sdf group by pclass\n",
        "titanic_sdf.groupBy(\"Pclass\").agg(\n",
        "    max(\"Age\"),\n",
        "    min(\"Age\"),\n",
        "    sum(\"Age\"),\n",
        "    avg(\"Age\")\n",
        ").show()"
      ]
    },
    {
      "cell_type": "code",
      "execution_count": null,
      "id": "ce32003d",
      "metadata": {
        "id": "ce32003d",
        "outputId": "2bc93a82-eb05-4bc6-c729-e2e7f3cf0a8b"
      },
      "outputs": [
        {
          "name": "stdout",
          "output_type": "stream",
          "text": [
            "+------+-------+-------+--------+------------------+\n",
            "|Pclass|age_max|age_min|sum(Age)|          avg(Age)|\n",
            "+------+-------+-------+--------+------------------+\n",
            "|     1|   80.0|   0.92| 7111.42|38.233440860215055|\n",
            "|     3|   74.0|   0.42| 8924.92| 25.14061971830986|\n",
            "|     2|   70.0|   0.67| 5168.83| 29.87763005780347|\n",
            "+------+-------+-------+--------+------------------+\n",
            "\n"
          ]
        }
      ],
      "source": [
        "# agg를 쓸 때는 col 사용 가능.\n",
        "titanic_sdf.groupBy(\"Pclass\").agg(\n",
        "    max(\"Age\").alias(\"age_max\"),\n",
        "    min(col(\"Age\")).alias(\"age_min\"),\n",
        "    sum(\"Age\"),\n",
        "    avg(\"Age\")\n",
        ").show()"
      ]
    },
    {
      "cell_type": "markdown",
      "id": "fef6f0dd",
      "metadata": {
        "id": "fef6f0dd"
      },
      "source": [
        "```sql\n",
        "select max(age) as max_age,\n",
        "       min(age) as min_age,\n",
        "       sum(age) as sum_age,\n",
        "       avg(age) as avg_age\n",
        "from titanic_sdf\n",
        "group by pclass having max(age) > 70\n",
        "```\n",
        "\n",
        "또는\n",
        "\n",
        "```sql\n",
        "select max_age, min_age, sum_avg, avg_age\n",
        "from (\n",
        "      select max(age) as max_age,\n",
        "             min(age) as min_age,\n",
        "             sum(age) as sum_age,\n",
        "             avg(age) as avg_age\n",
        "     from titanic_sdf group by pclass)\n",
        "where max_age > 70\n",
        "```"
      ]
    },
    {
      "cell_type": "code",
      "execution_count": null,
      "id": "28497d47",
      "metadata": {
        "id": "28497d47",
        "outputId": "d113ba3c-e39a-4025-e4fb-d6cc7ca6649f"
      },
      "outputs": [
        {
          "name": "stdout",
          "output_type": "stream",
          "text": [
            "+------+-------+-------+-------+------------------+\n",
            "|Pclass|max_age|min_age|sum_age|           avg_age|\n",
            "+------+-------+-------+-------+------------------+\n",
            "|     1|   80.0|   0.92|7111.42|38.233440860215055|\n",
            "|     3|   74.0|   0.42|8924.92| 25.14061971830986|\n",
            "+------+-------+-------+-------+------------------+\n",
            "\n"
          ]
        }
      ],
      "source": [
        "titanic_sdf.groupBy('Pclass').agg(\n",
        "    max(col('Age')).alias('max_age'),\n",
        "    min('Age').alias('min_age'),\n",
        "    sum('Age').alias('sum_age'),\n",
        "    avg('Age').alias('avg_age')).filter(col('max_age') > 70).show()"
      ]
    },
    {
      "cell_type": "code",
      "execution_count": null,
      "id": "a959a77c",
      "metadata": {
        "id": "a959a77c"
      },
      "outputs": [],
      "source": [
        "spark.stop()"
      ]
    },
    {
      "cell_type": "code",
      "execution_count": null,
      "id": "f372ce14",
      "metadata": {
        "id": "f372ce14"
      },
      "outputs": [],
      "source": []
    },
    {
      "cell_type": "code",
      "execution_count": null,
      "id": "1346cb08",
      "metadata": {
        "id": "1346cb08"
      },
      "outputs": [],
      "source": []
    },
    {
      "cell_type": "code",
      "execution_count": null,
      "id": "ec19b0b3",
      "metadata": {
        "id": "ec19b0b3"
      },
      "outputs": [],
      "source": []
    },
    {
      "cell_type": "code",
      "execution_count": null,
      "id": "60fccf52",
      "metadata": {
        "id": "60fccf52"
      },
      "outputs": [],
      "source": []
    },
    {
      "cell_type": "code",
      "execution_count": null,
      "id": "c8af6d98",
      "metadata": {
        "id": "c8af6d98"
      },
      "outputs": [],
      "source": []
    },
    {
      "cell_type": "code",
      "execution_count": null,
      "id": "97ae99ef",
      "metadata": {
        "id": "97ae99ef"
      },
      "outputs": [],
      "source": []
    }
  ],
  "metadata": {
    "kernelspec": {
      "display_name": "Python 3 (ipykernel)",
      "language": "python",
      "name": "python3"
    },
    "language_info": {
      "codemirror_mode": {
        "name": "ipython",
        "version": 3
      },
      "file_extension": ".py",
      "mimetype": "text/x-python",
      "name": "python",
      "nbconvert_exporter": "python",
      "pygments_lexer": "ipython3",
      "version": "3.8.16"
    },
    "colab": {
      "provenance": [],
      "include_colab_link": true
    }
  },
  "nbformat": 4,
  "nbformat_minor": 5
}